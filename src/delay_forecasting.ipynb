{
 "cells": [
  {
   "cell_type": "markdown",
   "metadata": {},
   "source": [
    "## Packages"
   ]
  },
  {
   "cell_type": "code",
   "execution_count": 1,
   "metadata": {},
   "outputs": [],
   "source": [
    "import os\n",
    "import pandas as pd\n",
    "import numpy as np\n",
    "import seaborn as sns\n",
    "from matplotlib import pyplot as plt\n",
    "from matplotlib.pyplot import figure\n",
    "from warnings import filterwarnings\n",
    "from pprint import pprint\n",
    "import gc\n",
    "filterwarnings(\"ignore\")\n",
    "%matplotlib inline\n",
    "from sklearn.preprocessing import MinMaxScaler, OneHotEncoder"
   ]
  },
  {
   "cell_type": "markdown",
   "metadata": {},
   "source": [
    "## Global Parameters"
   ]
  },
  {
   "cell_type": "code",
   "execution_count": 2,
   "metadata": {},
   "outputs": [],
   "source": [
    "ROOT_DIRECTORY = \"/home/kaan.aytekin/Thesis\"\n",
    "# Non-feature columns\n",
    "non_feature_columns = [\"simulation_run\", \"is_accident_simulation\", \n",
    "                       \"accident_location\", \"accident_start_time\", \n",
    "                       \"accident_duration\", \"accident_lane\", \n",
    "                       \"prev_detector_detector_number\",\"next_detector_detector_number\",\n",
    "                       \"detector_number\", \"timestamp\"\n",
    "]"
   ]
  },
  {
   "cell_type": "markdown",
   "metadata": {},
   "source": [
    "## UDFs"
   ]
  },
  {
   "cell_type": "code",
   "execution_count": 3,
   "metadata": {},
   "outputs": [],
   "source": [
    "def sample_from_array(array,freq):\n",
    "    array_size = len(array)\n",
    "    sample_size = int(np.ceil(array_size*freq))\n",
    "    array_slicer = np.zeros(array_size)\n",
    "    test_index =  np.random.choice(range(0,array_size),size=sample_size,replace=False)\n",
    "    array_slicer[test_index] = 1\n",
    "    return array[array_slicer.astype(bool)]\n",
    "\n",
    "def kfolds_from_array(array,k,seed=None):\n",
    "    if seed:\n",
    "        np.random.seed(seed)\n",
    "    np.random.shuffle(array)\n",
    "    array_folds = np.array_split(array,k)\n",
    "    return array_folds\n",
    "\n",
    "def simulation_based_k_folds_split(df,k=10,seed=None):\n",
    "    if seed:\n",
    "        np.random.seed(seed)\n",
    "    unique_simulation_combinations = df[[\"simulation_run\",\"is_accident_simulation\",\"accident_lane\"]].drop_duplicates().reset_index(drop=True)\n",
    "    unique_simulation_combinations = df[[\"simulation_run\",\"is_accident_simulation\",\"accident_lane\"]].drop_duplicates().reset_index(drop=True)\n",
    "    test_simulation_runs = unique_simulation_combinations.groupby([\"is_accident_simulation\",\"accident_lane\"]).simulation_run.unique().apply(lambda x: kfolds_from_array(x,k=k))\n",
    "    test_simulation_runs = test_simulation_runs.reset_index()\n",
    "    \n",
    "    for fold_number in range(k):\n",
    "        complete_test_index = []\n",
    "        for row in test_simulation_runs.itertuples():\n",
    "            current_test_index = (\n",
    "                (df.is_accident_simulation == row.is_accident_simulation)\n",
    "                &(df.accident_lane == row.accident_lane)\n",
    "                &(df.simulation_run.isin(row.simulation_run[fold_number]))\n",
    "            )\n",
    "            if len(complete_test_index):\n",
    "                complete_test_index = (complete_test_index | current_test_index)\n",
    "            else:\n",
    "                complete_test_index = current_test_index\n",
    "\n",
    "        train_index = ~complete_test_index\n",
    "        test_index = complete_test_index\n",
    "        #df_train = df[~complete_test_index].reset_index(drop=True)\n",
    "        #df_test = df[complete_test_index].reset_index(drop=True)\n",
    "        yield train_index, test_index #df_train, df_test\n",
    "\n",
    "def simulation_based_train_test_split(df, test_size=0.2, seed=None):\n",
    "    \"\"\"\n",
    "    Splits {df} into train and test datasets by their simulation-type with given {test_size}\n",
    "    \"\"\"\n",
    "    if seed:\n",
    "        np.random.seed(seed)\n",
    "    unique_simulation_combinations = (\n",
    "        df[[\"simulation_run\",\"is_accident_simulation\",\"accident_lane\"]].drop_duplicates().reset_index(drop=True)\n",
    "    )\n",
    "    test_simulation_runs = (\n",
    "        unique_simulation_combinations.groupby(\n",
    "            [\"is_accident_simulation\", \"accident_lane\"]\n",
    "        )\n",
    "        .simulation_run.unique()\n",
    "        .apply(lambda x: sample_from_array(x, freq=test_size))\n",
    "    )\n",
    "    test_simulation_runs = test_simulation_runs.reset_index()\n",
    "\n",
    "    complete_test_index = []\n",
    "    for row in test_simulation_runs.itertuples():\n",
    "        current_test_index = (\n",
    "            (df.is_accident_simulation == row.is_accident_simulation)\n",
    "            & (df.accident_lane == row.accident_lane)\n",
    "            & (df.simulation_run.isin(row.simulation_run))\n",
    "        )\n",
    "        if len(complete_test_index):\n",
    "            complete_test_index = complete_test_index | current_test_index\n",
    "        else:\n",
    "            complete_test_index = current_test_index\n",
    "    train_index = ~complete_test_index\n",
    "    test_index = complete_test_index\n",
    "    #df_train = df[~complete_test_index].reset_index(drop=True)\n",
    "    #df_test = df[complete_test_index].reset_index(drop=True)\n",
    "    return train_index, test_index #df_train, df_test\n",
    "\n",
    "def custom_cross_validation(models_list,performance_metrics_list,df_train,test_size=0.2,repetition_count=5,k_folds=10,seed=None):\n",
    "    if seed:\n",
    "        np.random.seed(seed)\n",
    "    results = []\n",
    "    for repetition in repetition_count:\n",
    "        df_train, df_validate = simulation_based_train_test_split(df=df_train,test_size=test_size)\n",
    "        x_train = df_train[feature_columns]\n",
    "        y_train = df_train[\"target\"]\n",
    "        x_validate = df_validate[feature_columns]\n",
    "        y_validate = df_validate[\"target\"]\n",
    "        for x,y in simulation_based_k_folds_split:\n",
    "            for model in models_list:\n",
    "                model.fit(x_train,y_train)\n",
    "                y_predicted = model.predict(x_validate)\n",
    "                for performance_metric in performance_metrics_list:\n",
    "                    performance_metric(y_validate,y_predicted)"
   ]
  },
  {
   "cell_type": "markdown",
   "metadata": {},
   "source": [
    "## Data Loading"
   ]
  },
  {
   "cell_type": "code",
   "execution_count": 4,
   "metadata": {},
   "outputs": [],
   "source": [
    "x_train = pd.read_csv(os.path.join(ROOT_DIRECTORY,\"data/thesis_data/x_train.csv\"))\n",
    "y_train = pd.read_csv(os.path.join(ROOT_DIRECTORY,\"data/thesis_data/y_train.csv\"))\n",
    "\n",
    "x_test = pd.read_csv(os.path.join(ROOT_DIRECTORY,\"data/thesis_data/x_test.csv\"))\n",
    "y_test = pd.read_csv(os.path.join(ROOT_DIRECTORY,\"data/thesis_data/y_test.csv\"))"
   ]
  },
  {
   "cell_type": "code",
   "execution_count": 5,
   "metadata": {},
   "outputs": [
    {
     "data": {
      "text/html": [
       "<div>\n",
       "<style scoped>\n",
       "    .dataframe tbody tr th:only-of-type {\n",
       "        vertical-align: middle;\n",
       "    }\n",
       "\n",
       "    .dataframe tbody tr th {\n",
       "        vertical-align: top;\n",
       "    }\n",
       "\n",
       "    .dataframe thead th {\n",
       "        text-align: right;\n",
       "    }\n",
       "</style>\n",
       "<table border=\"1\" class=\"dataframe\">\n",
       "  <thead>\n",
       "    <tr style=\"text-align: right;\">\n",
       "      <th></th>\n",
       "      <th>simulation_run</th>\n",
       "      <th>is_accident_simulation</th>\n",
       "      <th>accident_location</th>\n",
       "      <th>accident_start_time</th>\n",
       "      <th>accident_duration</th>\n",
       "      <th>accident_lane</th>\n",
       "      <th>prev_detector_detector_number</th>\n",
       "      <th>next_detector_detector_number</th>\n",
       "      <th>detector_number</th>\n",
       "      <th>timestamp</th>\n",
       "      <th>...</th>\n",
       "      <th>prev_detector_flow_vehph_lag9</th>\n",
       "      <th>prev_detector_density_vehpkm_lag9</th>\n",
       "      <th>prev_detector_avg_speed_kmph_lag9</th>\n",
       "      <th>prev_detector_section_travel_time_sec_lag9</th>\n",
       "      <th>prev_detector_delay_time_sec_lag9</th>\n",
       "      <th>prev_detector_flow_vehph_lag10</th>\n",
       "      <th>prev_detector_density_vehpkm_lag10</th>\n",
       "      <th>prev_detector_avg_speed_kmph_lag10</th>\n",
       "      <th>prev_detector_section_travel_time_sec_lag10</th>\n",
       "      <th>prev_detector_delay_time_sec_lag10</th>\n",
       "    </tr>\n",
       "  </thead>\n",
       "  <tbody>\n",
       "    <tr>\n",
       "      <th>0</th>\n",
       "      <td>0</td>\n",
       "      <td>0</td>\n",
       "      <td>0</td>\n",
       "      <td>0</td>\n",
       "      <td>0</td>\n",
       "      <td>0</td>\n",
       "      <td>1.0</td>\n",
       "      <td>2.0</td>\n",
       "      <td>1</td>\n",
       "      <td>915</td>\n",
       "      <td>...</td>\n",
       "      <td>1440.0</td>\n",
       "      <td>13.652174</td>\n",
       "      <td>49.2</td>\n",
       "      <td>36.585366</td>\n",
       "      <td>19.343987</td>\n",
       "      <td>1440.0</td>\n",
       "      <td>13.652174</td>\n",
       "      <td>49.2</td>\n",
       "      <td>36.585366</td>\n",
       "      <td>19.343987</td>\n",
       "    </tr>\n",
       "    <tr>\n",
       "      <th>1</th>\n",
       "      <td>0</td>\n",
       "      <td>0</td>\n",
       "      <td>0</td>\n",
       "      <td>0</td>\n",
       "      <td>0</td>\n",
       "      <td>0</td>\n",
       "      <td>1.0</td>\n",
       "      <td>2.0</td>\n",
       "      <td>1</td>\n",
       "      <td>930</td>\n",
       "      <td>...</td>\n",
       "      <td>1440.0</td>\n",
       "      <td>13.652174</td>\n",
       "      <td>49.2</td>\n",
       "      <td>36.585366</td>\n",
       "      <td>19.343987</td>\n",
       "      <td>1440.0</td>\n",
       "      <td>13.652174</td>\n",
       "      <td>49.2</td>\n",
       "      <td>36.585366</td>\n",
       "      <td>19.343987</td>\n",
       "    </tr>\n",
       "    <tr>\n",
       "      <th>2</th>\n",
       "      <td>0</td>\n",
       "      <td>0</td>\n",
       "      <td>0</td>\n",
       "      <td>0</td>\n",
       "      <td>0</td>\n",
       "      <td>0</td>\n",
       "      <td>1.0</td>\n",
       "      <td>2.0</td>\n",
       "      <td>1</td>\n",
       "      <td>945</td>\n",
       "      <td>...</td>\n",
       "      <td>1440.0</td>\n",
       "      <td>13.652174</td>\n",
       "      <td>49.2</td>\n",
       "      <td>36.585366</td>\n",
       "      <td>19.343987</td>\n",
       "      <td>1440.0</td>\n",
       "      <td>13.652174</td>\n",
       "      <td>49.2</td>\n",
       "      <td>36.585366</td>\n",
       "      <td>19.343987</td>\n",
       "    </tr>\n",
       "    <tr>\n",
       "      <th>3</th>\n",
       "      <td>0</td>\n",
       "      <td>0</td>\n",
       "      <td>0</td>\n",
       "      <td>0</td>\n",
       "      <td>0</td>\n",
       "      <td>0</td>\n",
       "      <td>1.0</td>\n",
       "      <td>2.0</td>\n",
       "      <td>1</td>\n",
       "      <td>960</td>\n",
       "      <td>...</td>\n",
       "      <td>1440.0</td>\n",
       "      <td>13.652174</td>\n",
       "      <td>49.2</td>\n",
       "      <td>36.585366</td>\n",
       "      <td>19.343987</td>\n",
       "      <td>1440.0</td>\n",
       "      <td>13.652174</td>\n",
       "      <td>49.2</td>\n",
       "      <td>36.585366</td>\n",
       "      <td>19.343987</td>\n",
       "    </tr>\n",
       "    <tr>\n",
       "      <th>4</th>\n",
       "      <td>0</td>\n",
       "      <td>0</td>\n",
       "      <td>0</td>\n",
       "      <td>0</td>\n",
       "      <td>0</td>\n",
       "      <td>0</td>\n",
       "      <td>1.0</td>\n",
       "      <td>2.0</td>\n",
       "      <td>1</td>\n",
       "      <td>975</td>\n",
       "      <td>...</td>\n",
       "      <td>1440.0</td>\n",
       "      <td>13.652174</td>\n",
       "      <td>49.2</td>\n",
       "      <td>36.585366</td>\n",
       "      <td>19.343987</td>\n",
       "      <td>1440.0</td>\n",
       "      <td>13.652174</td>\n",
       "      <td>49.2</td>\n",
       "      <td>36.585366</td>\n",
       "      <td>19.343987</td>\n",
       "    </tr>\n",
       "  </tbody>\n",
       "</table>\n",
       "<p>5 rows × 178 columns</p>\n",
       "</div>"
      ],
      "text/plain": [
       "   simulation_run  is_accident_simulation  accident_location  \\\n",
       "0               0                       0                  0   \n",
       "1               0                       0                  0   \n",
       "2               0                       0                  0   \n",
       "3               0                       0                  0   \n",
       "4               0                       0                  0   \n",
       "\n",
       "   accident_start_time  accident_duration  accident_lane  \\\n",
       "0                    0                  0              0   \n",
       "1                    0                  0              0   \n",
       "2                    0                  0              0   \n",
       "3                    0                  0              0   \n",
       "4                    0                  0              0   \n",
       "\n",
       "   prev_detector_detector_number  next_detector_detector_number  \\\n",
       "0                            1.0                            2.0   \n",
       "1                            1.0                            2.0   \n",
       "2                            1.0                            2.0   \n",
       "3                            1.0                            2.0   \n",
       "4                            1.0                            2.0   \n",
       "\n",
       "   detector_number  timestamp  ...  prev_detector_flow_vehph_lag9  \\\n",
       "0                1        915  ...                         1440.0   \n",
       "1                1        930  ...                         1440.0   \n",
       "2                1        945  ...                         1440.0   \n",
       "3                1        960  ...                         1440.0   \n",
       "4                1        975  ...                         1440.0   \n",
       "\n",
       "   prev_detector_density_vehpkm_lag9  prev_detector_avg_speed_kmph_lag9  \\\n",
       "0                          13.652174                               49.2   \n",
       "1                          13.652174                               49.2   \n",
       "2                          13.652174                               49.2   \n",
       "3                          13.652174                               49.2   \n",
       "4                          13.652174                               49.2   \n",
       "\n",
       "   prev_detector_section_travel_time_sec_lag9  \\\n",
       "0                                   36.585366   \n",
       "1                                   36.585366   \n",
       "2                                   36.585366   \n",
       "3                                   36.585366   \n",
       "4                                   36.585366   \n",
       "\n",
       "   prev_detector_delay_time_sec_lag9  prev_detector_flow_vehph_lag10  \\\n",
       "0                          19.343987                          1440.0   \n",
       "1                          19.343987                          1440.0   \n",
       "2                          19.343987                          1440.0   \n",
       "3                          19.343987                          1440.0   \n",
       "4                          19.343987                          1440.0   \n",
       "\n",
       "   prev_detector_density_vehpkm_lag10  prev_detector_avg_speed_kmph_lag10  \\\n",
       "0                           13.652174                                49.2   \n",
       "1                           13.652174                                49.2   \n",
       "2                           13.652174                                49.2   \n",
       "3                           13.652174                                49.2   \n",
       "4                           13.652174                                49.2   \n",
       "\n",
       "   prev_detector_section_travel_time_sec_lag10  \\\n",
       "0                                    36.585366   \n",
       "1                                    36.585366   \n",
       "2                                    36.585366   \n",
       "3                                    36.585366   \n",
       "4                                    36.585366   \n",
       "\n",
       "   prev_detector_delay_time_sec_lag10  \n",
       "0                           19.343987  \n",
       "1                           19.343987  \n",
       "2                           19.343987  \n",
       "3                           19.343987  \n",
       "4                           19.343987  \n",
       "\n",
       "[5 rows x 178 columns]"
      ]
     },
     "execution_count": 5,
     "metadata": {},
     "output_type": "execute_result"
    }
   ],
   "source": [
    "x_train.head()"
   ]
  },
  {
   "cell_type": "markdown",
   "metadata": {},
   "source": [
    "## Feature Selection & Preprocessing"
   ]
  },
  {
   "cell_type": "code",
   "execution_count": null,
   "metadata": {},
   "outputs": [],
   "source": [
    "from sklearn.preprocessing import MinMaxScaler, OneHotEncoder"
   ]
  },
  {
   "cell_type": "markdown",
   "metadata": {},
   "source": [
    "### Top Features"
   ]
  },
  {
   "cell_type": "code",
   "execution_count": null,
   "metadata": {},
   "outputs": [],
   "source": [
    "top_features_df = pd.read_csv(os.path.join(ROOT_DIRECTORY,\"data/thesis_data/top_features.csv\"))\n",
    "selected_features = top_features_df.feature.to_list()"
   ]
  },
  {
   "cell_type": "code",
   "execution_count": null,
   "metadata": {},
   "outputs": [],
   "source": [
    "non_feature_columns = [\n",
    "    \"simulation_run\", \n",
    "    \"is_accident_simulation\", \n",
    "    #\"accident_location\", \n",
    "    #\"accident_start_time\", \n",
    "    #\"accident_duration\", \n",
    "    \"accident_lane\", \n",
    "    #\"prev_detector_detector_number\",\n",
    "    #\"next_detector_detector_number\",\n",
    "    #\"detector_number\", \n",
    "    #\"timestamp\"\n",
    "]"
   ]
  },
  {
   "cell_type": "markdown",
   "metadata": {},
   "source": [
    "### Configs + Features"
   ]
  },
  {
   "cell_type": "code",
   "execution_count": null,
   "metadata": {},
   "outputs": [],
   "source": [
    "x_train = x_train[non_feature_columns + selected_features]\n",
    "x_test = x_test[selected_features]"
   ]
  },
  {
   "cell_type": "markdown",
   "metadata": {},
   "source": [
    "### One Hot Encoding for \"Accident Lane\""
   ]
  },
  {
   "cell_type": "code",
   "execution_count": null,
   "metadata": {},
   "outputs": [],
   "source": [
    "x_train_accident_lane_categorical = x_train[[\"accident_lane\"]]\n",
    "\n",
    "one_hot_encoder = OneHotEncoder(drop=\"first\")\n",
    "one_hot_encoder.fit(x_train_accident_lane_categorical)\n",
    "\n",
    "x_train_accident_lane_df = pd.DataFrame(one_hot_encoder.transform(x_train_accident_lane_categorical).toarray())\n",
    "x_train_accident_lane_df.columns = one_hot_encoder.get_feature_names([\"accident_lane\"])"
   ]
  },
  {
   "cell_type": "code",
   "execution_count": null,
   "metadata": {},
   "outputs": [],
   "source": [
    "x_train = pd.concat([x_train_accident_lane_df,x_train],axis = 1)"
   ]
  },
  {
   "cell_type": "code",
   "execution_count": null,
   "metadata": {},
   "outputs": [],
   "source": [
    "df_train = x_train.copy()\n",
    "df_train[\"target\"] = y_train"
   ]
  },
  {
   "cell_type": "code",
   "execution_count": null,
   "metadata": {},
   "outputs": [],
   "source": [
    "df_train.columns"
   ]
  },
  {
   "cell_type": "code",
   "execution_count": null,
   "metadata": {},
   "outputs": [],
   "source": [
    "FEATURE_COLUMNS =  [\"accident_lane_1\", \"accident_lane_2\", \"accident_lane_3\", 'accident_lane'] + selected_features"
   ]
  },
  {
   "cell_type": "markdown",
   "metadata": {},
   "source": [
    "## ML Packages"
   ]
  },
  {
   "cell_type": "code",
   "execution_count": null,
   "metadata": {},
   "outputs": [],
   "source": [
    "from sklearn.linear_model import LinearRegression, Lasso, Ridge, BayesianRidge, ARDRegression\n",
    "from sklearn.ensemble import RandomForestRegressor, GradientBoostingRegressor\n",
    "from sklearn.gaussian_process import GaussianProcessRegressor\n",
    "import xgboost as xgb\n",
    "from sklearn.metrics import make_scorer,get_scorer, mean_squared_error, mean_absolute_error, mean_absolute_percentage_error, r2_score\n",
    "from sklearn.model_selection import GridSearchCV, RandomizedSearchCV\n",
    "from sklearn.pipeline import Pipeline\n",
    "from tune_sklearn import TuneSearchCV\n",
    "from scipy.stats import uniform, randint\n",
    "# Reference: https://scikit-learn.org/stable/modules/model_evaluation.html#scoring-parameter"
   ]
  },
  {
   "cell_type": "code",
   "execution_count": null,
   "metadata": {},
   "outputs": [],
   "source": [
    "xg_train = xgb.DMatrix(x_train.values, y_train.values)\n",
    "xg_test = xgb.DMatrix(x_test.values, y_test.values)"
   ]
  },
  {
   "cell_type": "markdown",
   "metadata": {},
   "source": [
    "## Cross Validation: Hyper Parameter Tuning & Model Selection"
   ]
  },
  {
   "cell_type": "code",
   "execution_count": null,
   "metadata": {},
   "outputs": [],
   "source": [
    "def custom_cross_validation(\n",
    "    pipe,\n",
    "    param_grid,\n",
    "    performance_metric,\n",
    "    df,\n",
    "    test_size=0.2,\n",
    "    repetition_count=5,\n",
    "    k_folds=10,\n",
    "    seed=None,\n",
    "    n_jobs=-1,\n",
    "    n_iter=10\n",
    "    ):\n",
    "    from sklearn.metrics import get_scorer\n",
    "\n",
    "    if seed:\n",
    "        np.random.seed(seed)\n",
    "    results = []\n",
    "    for repetition in range(repetition_count):\n",
    "        repetition_results = {\"repetition\": repetition}\n",
    "        train_index, validation_index = simulation_based_train_test_split(\n",
    "            df=df, test_size=test_size\n",
    "        )\n",
    "        df_train, df_validation = df[train_index], df[validation_index]\n",
    "        x_train = df_train[FEATURE_COLUMNS]\n",
    "        y_train = df_train[\"target\"]\n",
    "        x_validate = df_validation[FEATURE_COLUMNS]\n",
    "        y_validate = df_validation[\"target\"]\n",
    "        inner_cv = list(simulation_based_k_folds_split(df=df_train, k=k_folds))\n",
    "        #bayesian_optimizer = TuneSearchCV(\n",
    "        optimizer = RandomizedSearchCV(\n",
    "            estimator=pipe,\n",
    "            param_distributions=param_grid,\n",
    "            scoring=performance_metric,\n",
    "            n_jobs = n_jobs,\n",
    "            cv=inner_cv,\n",
    "            n_iter = n_iter,\n",
    "            verbose=2,\n",
    "            return_train_score=True,\n",
    "            #search_optimization=\"random\",#\"bayesian\",\n",
    "        )\n",
    "        cv_results = optimizer.fit(x_train, y_train)\n",
    "        #cv_results = optimizer.cv_results_\n",
    "        repetition_results[\"cv_results\"] = cv_results\n",
    "        best_model = optimizer.best_estimator_\n",
    "        validation_predictions = best_model.predict(x_validate)\n",
    "        scorer_function = get_scorer(performance_metric)._score_func\n",
    "        score = scorer_function(y_validate, validation_predictions)\n",
    "        repetition_results[\"best_model_validation_score\"] = score\n",
    "        results.append(repetition_results)\n",
    "    return results"
   ]
  },
  {
   "cell_type": "code",
   "execution_count": null,
   "metadata": {},
   "outputs": [],
   "source": [
    "tuning_pipeline = Pipeline([\n",
    "    (\"scaler\", MinMaxScaler()),\n",
    "    (\"classifier\", RandomForestRegressor())\n",
    "]\n",
    ")\n",
    "\n",
    "param_grid = [\n",
    "    {\n",
    "        \"classifier\": [RandomForestRegressor()], \n",
    "        \"classifier__n_estimators\": [100,500,1000,1500],#randint(100,1001),#(100,1000),\n",
    "        \"classifier__min_samples_leaf\": [1,10,50,100,200,500],#randint(1,201),#(1,200),\n",
    "        \"classifier__max_features\": [\"auto\", \"sqrt\", \"log2\", 1/3],\n",
    "        \"classifier__n_jobs\": [-1],\n",
    "    },\n",
    "    #{\n",
    "    #    \"classifier\": [GradientBoostingRegressor()], #lightGBM or XGBoost for future?\n",
    "    #    #\"classifier\": [HistGradientBoostingRegressor()],\n",
    "    #    \"classifier__loss\": [\"ls\", \"lad\", \"huber\", \"quantile\"],\n",
    "    #    #\"classifier__loss\": [\"least_squares\", \"least_absolute_deviation\", \"poisson\"],\n",
    "    #    \"classifier__learning_rate\": uniform(0,1),# (0,1),\n",
    "    #    \"classifier__n_estimators\": [100,500,1000,1500],#(10,500),\n",
    "    #    \"classifier__subsample\": uniform(0,1),#(0,1),\n",
    "    #    \"classifier__criterion\": [\"friedman_mse\",\"mse\",\"mae\"],\n",
    "    #    \"classifier__min_samples_leaf\": [1,10,50,100,200,500],#(1,200),\n",
    "    #    \"classifier__max_features\": [\"auto\", \"sqrt\", \"log2\", 1/3],\n",
    "    #},\n",
    "    {\n",
    "        \"classifier\": [xgb.XGBRegressor(objective='reg:squarederror')],\n",
    "        \"classifier__n_estimators\": [100,500,1000,1500],\n",
    "        \"classifier__learning_rate\": [0.01,0.03,0.05,0.1,0.2,0.3],\n",
    "        \"classifier__n_jobs\": [-1],\n",
    "        \"classifier__min_child_weight\": [1,10,50,100,200,500],\n",
    "        \"classifier__reg_alpha\": [0,0.05,0.1]\n",
    "    },\n",
    "    {\n",
    "        \"classifier\": [LinearRegression()],\n",
    "        \"classifier__n_jobs\": [-1],\n",
    "    },\n",
    "    {\n",
    "        \"classifier\": [Ridge()],\n",
    "        \"classifier__alpha\": uniform(0,10),#(0,100),\n",
    "        \n",
    "    },\n",
    "    {\n",
    "        \"classifier\": [Lasso()],\n",
    "        \"classifier__alpha\": uniform(0,10),#(0,100),\n",
    "    },\n",
    "    {\n",
    "        \"classifier\": [BayesianRidge()],\n",
    "        \"classifier__alpha_1\": uniform(0,1),#(0,1),\n",
    "        \"classifier__alpha_2\": uniform(0,1),#(0,1),\n",
    "    },\n",
    "]"
   ]
  },
  {
   "cell_type": "code",
   "execution_count": null,
   "metadata": {},
   "outputs": [],
   "source": [
    "param_grid = [\n",
    "    {\n",
    "        \"classifier\": [xgb.XGBRegressor(objective='reg:squarederror')],\n",
    "        \"classifier__n_estimators\": [100,500,1000,1500],\n",
    "        \"classifier__learning_rate\": [0.01,0.03,0.05,0.1,0.2,0.3],\n",
    "        \"classifier__n_jobs\": [-1],\n",
    "        #\"classifier__min_child_weight\": [1,10,50,100,200,500],\n",
    "        #\"classifier__reg_alpha\": [0,0.05,0.1]\n",
    "    },\n",
    "]"
   ]
  },
  {
   "cell_type": "code",
   "execution_count": null,
   "metadata": {},
   "outputs": [],
   "source": [
    "df_train_sample = df_train.sample(n=1000)"
   ]
  },
  {
   "cell_type": "code",
   "execution_count": null,
   "metadata": {},
   "outputs": [],
   "source": [
    "df_train_sample.head()"
   ]
  },
  {
   "cell_type": "code",
   "execution_count": null,
   "metadata": {},
   "outputs": [],
   "source": [
    "%%time\n",
    "results = custom_cross_validation(\n",
    "    pipe=tuning_pipeline,\n",
    "    param_grid=param_grid,\n",
    "    performance_metric = \"neg_mean_squared_error\",\n",
    "    df=df_train_sample,#df_train,\n",
    "    test_size=0.2,\n",
    "    repetition_count=5,\n",
    "    k_folds=5,\n",
    "    seed=5,\n",
    "    n_jobs=50,\n",
    "    n_iter=50\n",
    ")"
   ]
  },
  {
   "cell_type": "code",
   "execution_count": null,
   "metadata": {},
   "outputs": [],
   "source": [
    "cv = results[0][\"cv_results\"]"
   ]
  },
  {
   "cell_type": "code",
   "execution_count": null,
   "metadata": {},
   "outputs": [],
   "source": [
    "cv.best_params_"
   ]
  },
  {
   "cell_type": "markdown",
   "metadata": {},
   "source": [
    "## Best Model"
   ]
  },
  {
   "cell_type": "code",
   "execution_count": null,
   "metadata": {},
   "outputs": [],
   "source": [
    "best_result = np.Inf\n",
    "best_model = None\n",
    "for result in results:\n",
    "    if result[\"best_model_validation_score\"] < best_result:\n",
    "        best_model = results[0][\"cv_results\"].best_params_"
   ]
  },
  {
   "cell_type": "markdown",
   "metadata": {},
   "source": [
    "## Model Inspection"
   ]
  },
  {
   "cell_type": "code",
   "execution_count": null,
   "metadata": {},
   "outputs": [],
   "source": []
  },
  {
   "cell_type": "markdown",
   "metadata": {},
   "source": [
    "## Test Performance"
   ]
  },
  {
   "cell_type": "code",
   "execution_count": null,
   "metadata": {},
   "outputs": [],
   "source": [
    "min_max_scaler = MinMaxScaler()\n",
    "min_max_scaler.fit(x_train)\n",
    "x_test_scaled = min_max_scaler.transform(x_test)\n",
    "y_pred = best_model.predict(x_test_scaled)\n",
    "\n",
    "test_mse = mean_squared_error(y_test,y_pred)"
   ]
  },
  {
   "cell_type": "markdown",
   "metadata": {},
   "source": [
    "## Prediction plotting"
   ]
  },
  {
   "cell_type": "code",
   "execution_count": null,
   "metadata": {},
   "outputs": [],
   "source": [
    "results[0].keys()\n",
    "#results: list\n",
    "#results[0]: dict('repetition', 'cv_results', 'best_model_test_scores')\n",
    "#results[0][\"repetition\"]: int\n",
    "#results[0][\"cv_results\"]: sklearn.model_selection._search.RandomizedSearchCV\n",
    "#results[0][\"cv_results\"].best_params_\n",
    "#results[0][\"best_model_validation_score\"]: float"
   ]
  }
 ],
 "metadata": {
  "kernelspec": {
   "display_name": "Python 3",
   "language": "python",
   "name": "python3"
  },
  "language_info": {
   "codemirror_mode": {
    "name": "ipython",
    "version": 3
   },
   "file_extension": ".py",
   "mimetype": "text/x-python",
   "name": "python",
   "nbconvert_exporter": "python",
   "pygments_lexer": "ipython3",
   "version": "3.7.6"
  }
 },
 "nbformat": 4,
 "nbformat_minor": 4
}
