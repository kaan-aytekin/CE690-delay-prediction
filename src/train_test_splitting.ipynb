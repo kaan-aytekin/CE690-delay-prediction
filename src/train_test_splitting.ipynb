{
 "cells": [
  {
   "cell_type": "markdown",
   "id": "controlled-diesel",
   "metadata": {},
   "source": [
    "## Packages"
   ]
  },
  {
   "cell_type": "code",
   "execution_count": 1,
   "id": "boxed-humor",
   "metadata": {},
   "outputs": [],
   "source": [
    "import os\n",
    "import pandas as pd\n",
    "import numpy as np\n",
    "import seaborn as sns\n",
    "from warnings import filterwarnings\n",
    "from pprint import pprint\n",
    "import gc\n",
    "filterwarnings(\"ignore\")\n",
    "%matplotlib inline"
   ]
  },
  {
   "cell_type": "markdown",
   "id": "lined-miller",
   "metadata": {},
   "source": [
    "## Global Parameters"
   ]
  },
  {
   "cell_type": "code",
   "execution_count": 2,
   "id": "reserved-object",
   "metadata": {},
   "outputs": [],
   "source": [
    "ROOT_DIRECTORY = \"/home/kaan.aytekin/Thesis\""
   ]
  },
  {
   "cell_type": "markdown",
   "id": "integral-windows",
   "metadata": {},
   "source": [
    "## UDFs"
   ]
  },
  {
   "cell_type": "code",
   "execution_count": 3,
   "id": "gorgeous-announcement",
   "metadata": {},
   "outputs": [],
   "source": [
    "def sample_from_array(array,freq):\n",
    "    array_size = len(array)\n",
    "    sample_size = int(np.ceil(array_size*freq))\n",
    "    array_slicer = np.zeros(array_size)\n",
    "    test_index =  np.random.choice(range(0,array_size),size=sample_size,replace=False)\n",
    "    array_slicer[test_index] = 1\n",
    "    return array[array_slicer.astype(bool)]\n",
    "\n",
    "\n",
    "def simulation_based_train_test_split(df, test_size=0.2, seed=None):\n",
    "    \"\"\"\n",
    "    Splits {df} into train and test datasets by their simulation-type with given {test_size}\n",
    "    \"\"\"\n",
    "    if seed:\n",
    "        np.random.seed(seed)\n",
    "    unique_simulation_combinations = (\n",
    "        df[non_feature_columns[:-4]].drop_duplicates().reset_index(drop=True)\n",
    "    )\n",
    "    test_simulation_runs = (\n",
    "        unique_simulation_combinations.groupby(\n",
    "            [\"is_accident_simulation\", \"accident_lane\", \"connected_vehicle_ratio\"]\n",
    "        )\n",
    "        .simulation_run.unique()\n",
    "        .apply(lambda x: sample_from_array(x, freq=test_size))\n",
    "    )\n",
    "    test_simulation_runs = test_simulation_runs.reset_index()\n",
    "\n",
    "    complete_test_index = []\n",
    "    for row in test_simulation_runs.itertuples():\n",
    "        current_test_index = (\n",
    "            (df.is_accident_simulation == row.is_accident_simulation)\n",
    "            & (df.accident_lane == row.accident_lane)\n",
    "            & (df.simulation_run.isin(row.simulation_run))\n",
    "        )\n",
    "        if len(complete_test_index):\n",
    "            complete_test_index = complete_test_index | current_test_index\n",
    "        else:\n",
    "            complete_test_index = current_test_index\n",
    "    train_index = ~complete_test_index\n",
    "    test_index = complete_test_index\n",
    "    #df_train = df[~complete_test_index].reset_index(drop=True)\n",
    "    #df_test = df[complete_test_index].reset_index(drop=True)\n",
    "    return train_index, test_index #df_train, df_test"
   ]
  },
  {
   "cell_type": "markdown",
   "id": "advised-opportunity",
   "metadata": {},
   "source": [
    "## Data Loading"
   ]
  },
  {
   "cell_type": "code",
   "execution_count": 4,
   "id": "surprising-blade",
   "metadata": {},
   "outputs": [],
   "source": [
    "feature_engineered_data_path = os.path.join(ROOT_DIRECTORY,\"data/thesis_data/feature_engineered_data.csv\")\n",
    "df = pd.read_csv(feature_engineered_data_path)\n",
    "#df = df.replace(np.Inf,9999999)\n",
    "# Rephrasing the problem with another target?\n",
    "df[\"target_delay_time_diff\"] = df[\"target_delay_time\"] - df[\"delay_time_sec\"]\n",
    "df_columns = list(df.columns)\n",
    "# Non-feature columns\n",
    "non_feature_columns = [\"simulation_run\", \"connected_vehicle_ratio\", \"is_accident_simulation\", \n",
    "                       \"accident_location\", \"accident_start_time\", \n",
    "                       \"accident_duration\", \"accident_lane\", \n",
    "                       \"prev_detector_detector_number\",\"next_detector_detector_number\",\n",
    "                       \"detector_number\", \"timestamp\"\n",
    "]\n",
    "target_columns = [\"target_delay_time\", \"target_delay_time_diff\"]\n",
    "feature_columns = [column for column in df_columns if column not in non_feature_columns + target_columns]\n",
    "feature_columns = [\"time_after_accident_started\", \"distance_to_accident\"] + [column for column in feature_columns if column not in [\"time_after_accident_started\", \"distance_to_accident\"]]\n",
    "# Reorder the data\n",
    "df = df[non_feature_columns + feature_columns + target_columns]"
   ]
  },
  {
   "cell_type": "code",
   "execution_count": 5,
   "id": "outstanding-nothing",
   "metadata": {},
   "outputs": [],
   "source": [
    "feature_list_path = os.path.join(ROOT_DIRECTORY,f\"data/thesis_data/feature_names_list.txt\")\n",
    "with open(feature_list_path,\"w+\") as writer:\n",
    "    writer.write('\\n'.join(feature_columns))"
   ]
  },
  {
   "cell_type": "markdown",
   "id": "opponent-brake",
   "metadata": {},
   "source": [
    "## Train/Test Split"
   ]
  },
  {
   "cell_type": "code",
   "execution_count": 6,
   "id": "bridal-undergraduate",
   "metadata": {},
   "outputs": [
    {
     "data": {
      "text/plain": [
       "98"
      ]
     },
     "execution_count": 6,
     "metadata": {},
     "output_type": "execute_result"
    }
   ],
   "source": [
    "train_index, test_index = simulation_based_train_test_split(df, test_size=0.2, seed=5)\n",
    "df_train = df[train_index]\n",
    "df_test = df[test_index]\n",
    "\n",
    "x_train = df_train[non_feature_columns + feature_columns]\n",
    "y_train = df_train[[\"target_delay_time\"]]\n",
    "\n",
    "x_test = df_test[non_feature_columns + feature_columns]\n",
    "y_test = df_test[[\"target_delay_time\"]]\n",
    "\n",
    "del df, df_train, df_test\n",
    "gc.collect()"
   ]
  },
  {
   "cell_type": "code",
   "execution_count": 7,
   "id": "satisfied-delta",
   "metadata": {},
   "outputs": [
    {
     "data": {
      "text/plain": [
       "((644740, 179), (2354052, 179))"
      ]
     },
     "execution_count": 7,
     "metadata": {},
     "output_type": "execute_result"
    }
   ],
   "source": [
    "x_train.shape, x_test.shape"
   ]
  },
  {
   "cell_type": "markdown",
   "id": "civil-factory",
   "metadata": {},
   "source": [
    "## Serialize"
   ]
  },
  {
   "cell_type": "code",
   "execution_count": 8,
   "id": "cubic-graphic",
   "metadata": {},
   "outputs": [],
   "source": [
    "for df_to_serialize,df_name in zip([x_train,y_train,x_test,y_test],[\"x_train\",\"y_train\",\"x_test\",\"y_test\"]):\n",
    "    csv_path = os.path.join(ROOT_DIRECTORY,f\"data/thesis_data/{df_name}.csv\")\n",
    "    df_to_serialize.to_csv(csv_path,index=False)"
   ]
  }
 ],
 "metadata": {
  "kernelspec": {
   "display_name": "Python 3",
   "language": "python",
   "name": "python3"
  },
  "language_info": {
   "codemirror_mode": {
    "name": "ipython",
    "version": 3
   },
   "file_extension": ".py",
   "mimetype": "text/x-python",
   "name": "python",
   "nbconvert_exporter": "python",
   "pygments_lexer": "ipython3",
   "version": "3.7.6"
  }
 },
 "nbformat": 4,
 "nbformat_minor": 5
}
