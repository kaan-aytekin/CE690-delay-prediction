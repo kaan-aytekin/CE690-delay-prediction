{
 "cells": [
  {
   "cell_type": "code",
   "execution_count": null,
   "id": "convertible-knock",
   "metadata": {},
   "outputs": [],
   "source": [
    "#install.packages(\"RRF\")\n",
    "#install.packages(\"data.table\")"
   ]
  },
  {
   "cell_type": "code",
   "execution_count": 1,
   "id": "legendary-corps",
   "metadata": {},
   "outputs": [
    {
     "name": "stderr",
     "output_type": "stream",
     "text": [
      "RRF 1.9.1\n",
      "\n",
      "Type rrfNews() to see new features/changes/bug fixes.\n",
      "\n"
     ]
    }
   ],
   "source": [
    "library(data.table)\n",
    "library(RRF);set.seed(1)"
   ]
  },
  {
   "cell_type": "code",
   "execution_count": 2,
   "id": "latin-manor",
   "metadata": {},
   "outputs": [],
   "source": [
    "ROOT_DIRECTORY = \"/home/kaan.aytekin/Thesis\"\n",
    "#ROOT_DIRECTORY = \"/Users/kaan.aytekin/Desktop/Kaan/Thesis\""
   ]
  },
  {
   "cell_type": "markdown",
   "id": "human-bundle",
   "metadata": {},
   "source": [
    "## Load Data"
   ]
  },
  {
   "cell_type": "code",
   "execution_count": 86,
   "id": "boolean-sixth",
   "metadata": {},
   "outputs": [],
   "source": [
    "feature_list_path <- file.path(ROOT_DIRECTORY,\"data/thesis_data/feature_names_list.txt\")\n",
    "feature_columns <- as.character(read.csv(feature_list_path,header = FALSE)[,1])\n",
    "#feature_columns <- feature_columns[,1]\n",
    "#feature_columns <- as.character(feature_columns)"
   ]
  },
  {
   "cell_type": "code",
   "execution_count": 88,
   "id": "killing-terrace",
   "metadata": {},
   "outputs": [],
   "source": [
    "feature_engineered_data_path = file.path(ROOT_DIRECTORY,\"data/thesis_data/feature_engineered_data.csv\")\n",
    "x_train_data_path <- file.path(ROOT_DIRECTORY,\"data/thesis_data/x_train.csv\")\n",
    "y_train_data_path <- file.path(ROOT_DIRECTORY,\"data/thesis_data/y_train.csv\")\n",
    "\n",
    "x_train <- data.table::fread(x_train_data_path)[,..feature_columns]\n",
    "#x_train <- x_train[,..feature_columns]\n",
    "y_train <- data.table::fread(y_train_data_path)$target_delay_time\n"
   ]
  },
  {
   "cell_type": "code",
   "execution_count": 4,
   "id": "digital-forge",
   "metadata": {},
   "outputs": [],
   "source": [
    "set.seed(500)\n",
    "sample_index <- sample(1:nrow(x_train),20000,replace = FALSE)\n",
    "x_train_sample <- x_train[c(sample_index)]\n",
    "y_train_sample <- y_train[c(sample_index)]"
   ]
  },
  {
   "cell_type": "code",
   "execution_count": 6,
   "id": "involved-groove",
   "metadata": {},
   "outputs": [
    {
     "data": {
      "text/html": [
       "20000"
      ],
      "text/latex": [
       "20000"
      ],
      "text/markdown": [
       "20000"
      ],
      "text/plain": [
       "[1] 20000"
      ]
     },
     "metadata": {},
     "output_type": "display_data"
    },
    {
     "data": {
      "text/plain": [
       "NULL"
      ]
     },
     "metadata": {},
     "output_type": "display_data"
    }
   ],
   "source": [
    "nrow(x_train_sample)\n",
    "nrow(y_train_sample)"
   ]
  },
  {
   "cell_type": "markdown",
   "id": "ceramic-healing",
   "metadata": {},
   "source": [
    "## Standard Random Forest Feature Importance"
   ]
  },
  {
   "cell_type": "code",
   "execution_count": 7,
   "id": "brief-lingerie",
   "metadata": {},
   "outputs": [],
   "source": [
    "# Standard Random Forest model\n",
    "rf_model <- RRF(x=x_train_sample, y=y_train_sample, flagReg = 0)"
   ]
  },
  {
   "cell_type": "code",
   "execution_count": 11,
   "id": "ruled-strengthening",
   "metadata": {},
   "outputs": [],
   "source": [
    "rf_model_importance <- rf_model$importance\n",
    "rf_model_importance <- rf_model_importance[,\"IncNodePurity\"]"
   ]
  },
  {
   "cell_type": "code",
   "execution_count": 14,
   "id": "handy-scheduling",
   "metadata": {
    "scrolled": true
   },
   "outputs": [
    {
     "data": {
      "text/html": [
       "'numeric'"
      ],
      "text/latex": [
       "'numeric'"
      ],
      "text/markdown": [
       "'numeric'"
      ],
      "text/plain": [
       "[1] \"numeric\""
      ]
     },
     "metadata": {},
     "output_type": "display_data"
    }
   ],
   "source": [
    "rf_model_importance"
   ]
  },
  {
   "cell_type": "code",
   "execution_count": 92,
   "id": "round-cycle",
   "metadata": {},
   "outputs": [],
   "source": [
    "sorted_rf_model_importance <- rf_model_importance[order(rf_model_importance,decreasing=TRUE)]\n",
    "rf_model_importance_df <- as.data.table(sorted_rf_model_importance, keep.rownames=TRUE)\n",
    "setnames(rf_model_importance_df,c(\"feature\",\"value\"))\n",
    "rf_model_importance_df$order = 1:nrow(rf_model_importance_df)"
   ]
  },
  {
   "cell_type": "code",
   "execution_count": 93,
   "id": "younger-treasurer",
   "metadata": {},
   "outputs": [
    {
     "data": {
      "text/html": [
       "<table class=\"dataframe\">\n",
       "<caption>A data.table: 6 × 3</caption>\n",
       "<thead>\n",
       "\t<tr><th scope=col>feature</th><th scope=col>value</th><th scope=col>order</th></tr>\n",
       "\t<tr><th scope=col>&lt;chr&gt;</th><th scope=col>&lt;dbl&gt;</th><th scope=col>&lt;int&gt;</th></tr>\n",
       "</thead>\n",
       "<tbody>\n",
       "\t<tr><td>section_travel_time_sec     </td><td>7124881</td><td>1</td></tr>\n",
       "\t<tr><td>delay_time_sec              </td><td>6708992</td><td>2</td></tr>\n",
       "\t<tr><td>avg_speed_kmph              </td><td>4010971</td><td>3</td></tr>\n",
       "\t<tr><td>delay_time_sec_lag1         </td><td>1822658</td><td>4</td></tr>\n",
       "\t<tr><td>section_travel_time_sec_lag1</td><td>1624110</td><td>5</td></tr>\n",
       "\t<tr><td>avg_speed_kmph_lag1         </td><td>1052913</td><td>6</td></tr>\n",
       "</tbody>\n",
       "</table>\n"
      ],
      "text/latex": [
       "A data.table: 6 × 3\n",
       "\\begin{tabular}{lll}\n",
       " feature & value & order\\\\\n",
       " <chr> & <dbl> & <int>\\\\\n",
       "\\hline\n",
       "\t section\\_travel\\_time\\_sec      & 7124881 & 1\\\\\n",
       "\t delay\\_time\\_sec               & 6708992 & 2\\\\\n",
       "\t avg\\_speed\\_kmph               & 4010971 & 3\\\\\n",
       "\t delay\\_time\\_sec\\_lag1          & 1822658 & 4\\\\\n",
       "\t section\\_travel\\_time\\_sec\\_lag1 & 1624110 & 5\\\\\n",
       "\t avg\\_speed\\_kmph\\_lag1          & 1052913 & 6\\\\\n",
       "\\end{tabular}\n"
      ],
      "text/markdown": [
       "\n",
       "A data.table: 6 × 3\n",
       "\n",
       "| feature &lt;chr&gt; | value &lt;dbl&gt; | order &lt;int&gt; |\n",
       "|---|---|---|\n",
       "| section_travel_time_sec      | 7124881 | 1 |\n",
       "| delay_time_sec               | 6708992 | 2 |\n",
       "| avg_speed_kmph               | 4010971 | 3 |\n",
       "| delay_time_sec_lag1          | 1822658 | 4 |\n",
       "| section_travel_time_sec_lag1 | 1624110 | 5 |\n",
       "| avg_speed_kmph_lag1          | 1052913 | 6 |\n",
       "\n"
      ],
      "text/plain": [
       "  feature                      value   order\n",
       "1 section_travel_time_sec      7124881 1    \n",
       "2 delay_time_sec               6708992 2    \n",
       "3 avg_speed_kmph               4010971 3    \n",
       "4 delay_time_sec_lag1          1822658 4    \n",
       "5 section_travel_time_sec_lag1 1624110 5    \n",
       "6 avg_speed_kmph_lag1          1052913 6    "
      ]
     },
     "metadata": {},
     "output_type": "display_data"
    }
   ],
   "source": [
    "head(rf_model_importance_df)"
   ]
  },
  {
   "cell_type": "markdown",
   "id": "behind-sustainability",
   "metadata": {},
   "source": [
    "## Regularized Random Forest Feature Importance"
   ]
  },
  {
   "cell_type": "code",
   "execution_count": 19,
   "id": "spare-german",
   "metadata": {},
   "outputs": [],
   "source": [
    "#Regularized Random Forest Model\n",
    "rf_model_importance_normalized <- rf_model_importance/(max(rf_model_importance))#normalize the importance score\n",
    "gamma <- 0.5\n",
    "regularization_coeff <- (1-gamma)+gamma*rf_model_importance_normalized #weighted average"
   ]
  },
  {
   "cell_type": "code",
   "execution_count": 20,
   "id": "ready-quantity",
   "metadata": {},
   "outputs": [],
   "source": [
    "rrf_model <- RRF(x=x_train_sample, y=y_train_sample, coefReg=regularization_coeff, flagReg = 1)"
   ]
  },
  {
   "cell_type": "code",
   "execution_count": 22,
   "id": "clean-investigation",
   "metadata": {},
   "outputs": [],
   "source": [
    "# Feature Importances\n",
    "rrf_model_importance <- rrf_model$importance\n",
    "rrf_model_importance <- rrf_model_importance[,\"IncNodePurity\"]"
   ]
  },
  {
   "cell_type": "code",
   "execution_count": 89,
   "id": "burning-joshua",
   "metadata": {},
   "outputs": [],
   "source": [
    "sorted_rrf_model_importance <- rrf_model_importance[order(rrf_model_importance,decreasing=TRUE)]"
   ]
  },
  {
   "cell_type": "code",
   "execution_count": 90,
   "id": "superb-briefs",
   "metadata": {
    "scrolled": true
   },
   "outputs": [],
   "source": [
    "rrf_model_importance_df <- as.data.table(sorted_rrf_model_importance, keep.rownames=TRUE)\n",
    "setnames(rrf_model_importance_df,c(\"feature\",\"value\"))\n",
    "rrf_model_importance_df$order = 1:nrow(rrf_model_importance_df)"
   ]
  },
  {
   "cell_type": "code",
   "execution_count": 94,
   "id": "robust-printer",
   "metadata": {},
   "outputs": [
    {
     "data": {
      "text/html": [
       "<table class=\"dataframe\">\n",
       "<caption>A data.table: 6 × 3</caption>\n",
       "<thead>\n",
       "\t<tr><th scope=col>feature</th><th scope=col>value</th><th scope=col>order</th></tr>\n",
       "\t<tr><th scope=col>&lt;chr&gt;</th><th scope=col>&lt;dbl&gt;</th><th scope=col>&lt;int&gt;</th></tr>\n",
       "</thead>\n",
       "<tbody>\n",
       "\t<tr><td>delay_time_sec              </td><td>7398172.6</td><td>1</td></tr>\n",
       "\t<tr><td>section_travel_time_sec     </td><td>6533061.3</td><td>2</td></tr>\n",
       "\t<tr><td>avg_speed_kmph              </td><td>4033253.4</td><td>3</td></tr>\n",
       "\t<tr><td>section_travel_time_sec_lag1</td><td>1840471.2</td><td>4</td></tr>\n",
       "\t<tr><td>delay_time_sec_lag1         </td><td>1372206.3</td><td>5</td></tr>\n",
       "\t<tr><td>avg_speed_kmph_lag1         </td><td> 925088.7</td><td>6</td></tr>\n",
       "</tbody>\n",
       "</table>\n"
      ],
      "text/latex": [
       "A data.table: 6 × 3\n",
       "\\begin{tabular}{lll}\n",
       " feature & value & order\\\\\n",
       " <chr> & <dbl> & <int>\\\\\n",
       "\\hline\n",
       "\t delay\\_time\\_sec               & 7398172.6 & 1\\\\\n",
       "\t section\\_travel\\_time\\_sec      & 6533061.3 & 2\\\\\n",
       "\t avg\\_speed\\_kmph               & 4033253.4 & 3\\\\\n",
       "\t section\\_travel\\_time\\_sec\\_lag1 & 1840471.2 & 4\\\\\n",
       "\t delay\\_time\\_sec\\_lag1          & 1372206.3 & 5\\\\\n",
       "\t avg\\_speed\\_kmph\\_lag1          &  925088.7 & 6\\\\\n",
       "\\end{tabular}\n"
      ],
      "text/markdown": [
       "\n",
       "A data.table: 6 × 3\n",
       "\n",
       "| feature &lt;chr&gt; | value &lt;dbl&gt; | order &lt;int&gt; |\n",
       "|---|---|---|\n",
       "| delay_time_sec               | 7398172.6 | 1 |\n",
       "| section_travel_time_sec      | 6533061.3 | 2 |\n",
       "| avg_speed_kmph               | 4033253.4 | 3 |\n",
       "| section_travel_time_sec_lag1 | 1840471.2 | 4 |\n",
       "| delay_time_sec_lag1          | 1372206.3 | 5 |\n",
       "| avg_speed_kmph_lag1          |  925088.7 | 6 |\n",
       "\n"
      ],
      "text/plain": [
       "  feature                      value     order\n",
       "1 delay_time_sec               7398172.6 1    \n",
       "2 section_travel_time_sec      6533061.3 2    \n",
       "3 avg_speed_kmph               4033253.4 3    \n",
       "4 section_travel_time_sec_lag1 1840471.2 4    \n",
       "5 delay_time_sec_lag1          1372206.3 5    \n",
       "6 avg_speed_kmph_lag1           925088.7 6    "
      ]
     },
     "metadata": {},
     "output_type": "display_data"
    }
   ],
   "source": [
    "head(rrf_model_importance_df)"
   ]
  },
  {
   "cell_type": "markdown",
   "id": "democratic-discipline",
   "metadata": {},
   "source": [
    "## Serialize"
   ]
  },
  {
   "cell_type": "code",
   "execution_count": 98,
   "id": "generous-highlight",
   "metadata": {},
   "outputs": [],
   "source": [
    "write.csv(rf_model_importance_df,file.path(ROOT_DIRECTORY,\"data/thesis_data/random_forest_feature_orders.csv\"),quote=FALSE,row.names=FALSE)\n",
    "write.csv(rrf_model_importance_df,file.path(ROOT_DIRECTORY,\"data/thesis_data/regularized_random_forest_feature_orders.csv\"),quote=FALSE,row.names=FALSE)"
   ]
  }
 ],
 "metadata": {
  "kernelspec": {
   "display_name": "R",
   "language": "R",
   "name": "ir"
  },
  "language_info": {
   "codemirror_mode": "r",
   "file_extension": ".r",
   "mimetype": "text/x-r-source",
   "name": "R",
   "pygments_lexer": "r",
   "version": "3.6.1"
  }
 },
 "nbformat": 4,
 "nbformat_minor": 5
}
