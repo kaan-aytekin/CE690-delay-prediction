{
 "cells": [
  {
   "cell_type": "markdown",
   "metadata": {},
   "source": [
    "## Packages"
   ]
  },
  {
   "cell_type": "code",
   "execution_count": 12,
   "metadata": {},
   "outputs": [],
   "source": [
    "import os\n",
    "import pandas as pd\n",
    "import numpy as np\n",
    "from warnings import filterwarnings\n",
    "filterwarnings(\"ignore\")\n",
    "from sklearn.ensemble import RandomForestRegressor\n",
    "from sklearn.preprocessing import MinMaxScaler\n",
    "from sklearn.metrics import mean_squared_error\n",
    "import pickle"
   ]
  },
  {
   "cell_type": "markdown",
   "metadata": {},
   "source": [
    "## Global Parameters"
   ]
  },
  {
   "cell_type": "code",
   "execution_count": 2,
   "metadata": {},
   "outputs": [],
   "source": [
    "ROOT_DIRECTORY = \"/home/kaan.aytekin/Thesis\"\n",
    "# Non-feature columns\n",
    "non_feature_columns = [\n",
    "    \"simulation_run\",\n",
    "    \"is_accident_simulation\",\n",
    "    \"accident_location\",\n",
    "    \"accident_start_time\",\n",
    "    \"accident_duration\",\n",
    "    \"accident_lane\",\n",
    "    \"prev_detector_detector_number\",\n",
    "    \"next_detector_detector_number\",\n",
    "    \"detector_number\",\n",
    "    \"timestamp\",\n",
    "]"
   ]
  },
  {
   "cell_type": "markdown",
   "metadata": {},
   "source": [
    "## Data Loading"
   ]
  },
  {
   "cell_type": "code",
   "execution_count": 3,
   "metadata": {},
   "outputs": [],
   "source": [
    "processed_feature_columns_path = os.path.join(\n",
    "    ROOT_DIRECTORY, \"data/thesis_data/processed_feature_columns.txt\"\n",
    ")\n",
    "with open(processed_feature_columns_path, \"r\") as reader:\n",
    "    FEATURE_COLUMNS = reader.read().split(\"\\n\")\n",
    "\n",
    "\n",
    "df_train = pd.read_csv(\n",
    "    os.path.join(ROOT_DIRECTORY, \"data/thesis_data/x_train_processed.csv\")\n",
    ")[FEATURE_COLUMNS + [\"target\"]]\n",
    "df_test = pd.read_csv(\n",
    "    os.path.join(ROOT_DIRECTORY, \"data/thesis_data/x_test_processed.csv\")\n",
    ")[FEATURE_COLUMNS + [\"target\"]]"
   ]
  },
  {
   "cell_type": "code",
   "execution_count": 10,
   "metadata": {},
   "outputs": [],
   "source": [
    "x_train = df_train[FEATURE_COLUMNS]\n",
    "y_train = df_train[\"target\"]\n",
    "\n",
    "x_test = df_test[FEATURE_COLUMNS]\n",
    "y_test = df_test[\"target\"]\n",
    "\n"
   ]
  },
  {
   "cell_type": "code",
   "execution_count": 5,
   "metadata": {},
   "outputs": [],
   "source": [
    "min_max_scaler = MinMaxScaler()\n",
    "min_max_scaler = min_max_scaler.fit(x_train)\n",
    "\n"
   ]
  },
  {
   "cell_type": "code",
   "execution_count": 6,
   "metadata": {},
   "outputs": [],
   "source": [
    "x_train_scaled = min_max_scaler.transform(x_train)"
   ]
  },
  {
   "cell_type": "code",
   "execution_count": 7,
   "metadata": {},
   "outputs": [],
   "source": [
    "rf_regressor = RandomForestRegressor(\n",
    "    n_jobs = 20,\n",
    "    n_estimators=100,\n",
    "    min_samples_leaf=10,\n",
    "    max_features=1/3,\n",
    ")\n",
    "rf_regressor = rf_regressor.fit(X=x_train_scaled,y=y_train)"
   ]
  },
  {
   "cell_type": "code",
   "execution_count": 8,
   "metadata": {},
   "outputs": [
    {
     "data": {
      "text/plain": [
       "194.5333993097076"
      ]
     },
     "execution_count": 8,
     "metadata": {},
     "output_type": "execute_result"
    }
   ],
   "source": [
    "y_train_pred = rf_regressor.predict(x_train_scaled)\n",
    "mean_squared_error(y_train,y_train_pred)"
   ]
  },
  {
   "cell_type": "code",
   "execution_count": 11,
   "metadata": {},
   "outputs": [
    {
     "data": {
      "text/plain": [
       "132.01484451181597"
      ]
     },
     "execution_count": 11,
     "metadata": {},
     "output_type": "execute_result"
    }
   ],
   "source": [
    "x_test_scaled = min_max_scaler.transform(x_test)\n",
    "y_test_pred = rf_regressor.predict(x_test_scaled)\n",
    "mean_squared_error(y_test,y_test_pred)"
   ]
  },
  {
   "cell_type": "code",
   "execution_count": 15,
   "metadata": {},
   "outputs": [],
   "source": [
    "with open(os.path.join(ROOT_DIRECTORY, \"model/random_forest_regressor.pkl\"), \"wb\") as writer:\n",
    "    pickle.dump(obj=rf_regressor, file=writer)"
   ]
  },
  {
   "cell_type": "code",
   "execution_count": 16,
   "metadata": {},
   "outputs": [],
   "source": [
    "with open(os.path.join(ROOT_DIRECTORY, \"model/min_max_scaler.pkl\"), \"wb\") as writer:\n",
    "    pickle.dump(obj=min_max_scaler, file=writer)"
   ]
  }
 ],
 "metadata": {
  "kernelspec": {
   "display_name": "kaan",
   "language": "python",
   "name": "kaan"
  },
  "language_info": {
   "codemirror_mode": {
    "name": "ipython",
    "version": 3
   },
   "file_extension": ".py",
   "mimetype": "text/x-python",
   "name": "python",
   "nbconvert_exporter": "python",
   "pygments_lexer": "ipython3",
   "version": "3.7.6"
  }
 },
 "nbformat": 4,
 "nbformat_minor": 4
}
