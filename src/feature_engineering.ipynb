{
 "cells": [
  {
   "cell_type": "markdown",
   "metadata": {},
   "source": [
    "## Packages"
   ]
  },
  {
   "cell_type": "code",
   "execution_count": 1,
   "metadata": {},
   "outputs": [],
   "source": [
    "import os\n",
    "import pandas as pd\n",
    "import numpy as np\n",
    "import seaborn as sns\n",
    "from matROOT_DIRECTORYROOT_DIRECTORYplotlib import pyplot as plt\n",
    "from matplotlib.pyplot import figure\n",
    "from warnings import filterwarnings\n",
    "from pprint import pprint\n",
    "filterwarnings(\"ignore\")\n",
    "%matplotlib inline"
   ]
  },
  {
   "cell_type": "markdown",
   "metadata": {},
   "source": [
    "## Global Parameters"
   ]
  },
  {
   "cell_type": "code",
   "execution_count": 2,
   "metadata": {},
   "outputs": [],
   "source": [
    "ROOT_DIRECTORY = \"/home/kaan.aytekin/Thesis\"\n",
    "#ROOT_DIRECTORY = \"/Users/kaan.aytekin/Desktop/Kaan/Thesis\"\n",
    "SIMULATION_DURATION = 90 * 60 #Seconds\n",
    "WARM_UP_PERIOD_DURATION = 15 * 60 #Seconds\n",
    "COOL_DOWN_PERIOD_DURATION = 15 * 60 #Seconds\n",
    "DETECTOR_SEPARATION_DISTANCE = 500 #Meter\n",
    "DETECTOR_COUNT = 21\n",
    "TOTAL_ROAD_LENGTH = DETECTOR_COUNT * DETECTOR_SEPARATION_DISTANCE"
   ]
  },
  {
   "cell_type": "markdown",
   "metadata": {},
   "source": [
    "## UDFs"
   ]
  },
  {
   "cell_type": "code",
   "execution_count": 3,
   "metadata": {},
   "outputs": [],
   "source": [
    "def timeit(func):\n",
    "    \"\"\"Wrapper function for logging the function duration\n",
    "\n",
    "    Args:\n",
    "        func (function): Function to measure performance\n",
    "\n",
    "    Returns:\n",
    "        function: Function with performance measurement capabilities\n",
    "    \"\"\"\n",
    "    from functools import wraps\n",
    "    import datetime as dt\n",
    "    @wraps(func)\n",
    "    def timed(*args, **kwargs):\n",
    "        function_name = func.__name__\n",
    "        start_time = dt.datetime.now()\n",
    "        result = func(*args, **kwargs)\n",
    "        end_time = dt.datetime.now()\n",
    "        execution_duration = (end_time - start_time).total_seconds()\n",
    "        print(\n",
    "            f\"Function {function_name!r} executed in {execution_duration:.4f} seconds ({execution_duration/60:.2f} minutes)\")\n",
    "        return result\n",
    "    return timed\n",
    "\n",
    "def calculate_section_travel_time(speed_kilometer_per_second):\n",
    "    speed_meter_per_second = speed_kilometer_per_second * (1000 / (60 * 60))\n",
    "    if speed_meter_per_second:\n",
    "        travel_time_sec = DETECTOR_SEPARATION_DISTANCE / speed_meter_per_second\n",
    "        return travel_time_sec\n",
    "\n",
    "def calculate_time_after_accident_start(df_row):\n",
    "    if df_row.is_accident_timestamp:\n",
    "        return float(df_row.timestamp - df_row.accident_start_time)\n",
    "    else:\n",
    "        return 0\n",
    "\n",
    "def calculate_distance_to_accident(df_row):\n",
    "    if df_row.is_accident_timestamp:\n",
    "        return float(\n",
    "            df_row.accident_location\n",
    "            - df_row.detector_number * DETECTOR_SEPARATION_DISTANCE\n",
    "        )\n",
    "    else:\n",
    "        return 9999999#np.Inf\n",
    "\n",
    "@timeit\n",
    "def calculate_detector_lag_values(df, max_lag=10):\n",
    "    simulation_config_columns = [\n",
    "        \"simulation_run\",\n",
    "        \"accident_location\",\n",
    "        \"accident_start_time\",\n",
    "        \"accident_duration\",\n",
    "        \"accident_lane\",\n",
    "        \"detector_number\",\n",
    "    ]\n",
    "    traffic_metrics = [\n",
    "        \"flow_vehph\",\n",
    "        \"density_vehpkm\",\n",
    "        \"avg_speed_kmph\",\n",
    "        \"section_travel_time_sec\",\n",
    "        \"delay_time_sec\",\n",
    "    ]\n",
    "    df_sorted = df.sort_values(simulation_config_columns + [\"timestamp\"])\n",
    "    for lag_number in range(max_lag):\n",
    "        lag_number += 1\n",
    "        lagged_features = [\n",
    "            f\"flow_vehph_lag{lag_number}\",\n",
    "            f\"density_vehpkm_lag{lag_number}\",\n",
    "            f\"avg_speed_kmph_lag{lag_number}\",\n",
    "            f\"section_travel_time_sec_lag{lag_number}\",\n",
    "            f\"delay_time_sec_lag{lag_number}\",\n",
    "        ]\n",
    "        df_sorted[lagged_features] = df_sorted.groupby(by=simulation_config_columns)[\n",
    "            traffic_metrics\n",
    "        ].shift(lag_number)\n",
    "    return df_sorted\n",
    "\n",
    "\n",
    "@timeit\n",
    "def calculate_adjacent_detector_features(df):\n",
    "    def key_mapper(key):\n",
    "        if \"_next_detector\" in key:\n",
    "            new_key = key.replace(\"_next_detector\", \"\")\n",
    "            new_key = \"next_detector_\" + new_key\n",
    "        elif \"_prev_detector\" in key:\n",
    "            new_key = key.replace(\"_prev_detector\", \"\")\n",
    "            new_key = \"prev_detector_\" + new_key\n",
    "        else:\n",
    "            new_key = key\n",
    "        return new_key\n",
    "\n",
    "    merging_columns = [\n",
    "        \"simulation_run\",\n",
    "        \"accident_location\",\n",
    "        \"accident_start_time\",\n",
    "        \"accident_duration\",\n",
    "        \"accident_lane\",\n",
    "        \"timestamp\",\n",
    "        \"detector_number\",\n",
    "    ]\n",
    "    simulation_metrics = [\n",
    "        \"flow_vehph\",\n",
    "        \"density_vehpkm\",\n",
    "        \"avg_speed_kmph\",\n",
    "        \"section_travel_time_sec\",\n",
    "        \"delay_time_sec\",\n",
    "    ]\n",
    "    simulation_metrics_with_lags = simulation_metrics.copy()\n",
    "    max_lag = 10\n",
    "    for lag_number in range(max_lag):\n",
    "        lag_number += 1\n",
    "        simulation_metrics_with_lags = simulation_metrics_with_lags + [\n",
    "            f\"{metric}_lag{lag_number}\" for metric in simulation_metrics\n",
    "        ]\n",
    "\n",
    "    df[\"next_detector_number\"] = df[\"detector_number\"] + 1\n",
    "    df[\"prev_detector_number\"] = df[\"detector_number\"] - 1\n",
    "\n",
    "    df_merged = df.merge(\n",
    "        df[merging_columns + simulation_metrics_with_lags],\n",
    "        how=\"left\",\n",
    "        left_on=merging_columns[:-1] + [\"next_detector_number\"],\n",
    "        right_on=merging_columns,\n",
    "        suffixes=(\"\", \"_next_detector\"),\n",
    "    )\n",
    "    df_merged = df_merged.merge(\n",
    "        df[merging_columns + simulation_metrics_with_lags],\n",
    "        how=\"left\",\n",
    "        left_on=merging_columns[:-1] + [\"prev_detector_number\"],\n",
    "        right_on=merging_columns,\n",
    "        suffixes=(\"\", \"_prev_detector\"),\n",
    "    )\n",
    "    df_merged = df_merged.drop([\"next_detector_number\", \"prev_detector_number\"], axis=1)\n",
    "\n",
    "    df_merged = df_merged.rename(columns=key_mapper)\n",
    "    return df_merged\n",
    "\n",
    "@timeit\n",
    "def calculate_target_value(df):\n",
    "    simulation_config_columns = [\n",
    "        \"simulation_run\",\n",
    "        \"accident_location\",\n",
    "        \"accident_start_time\",\n",
    "        \"accident_duration\",\n",
    "        \"accident_lane\",\n",
    "        \"detector_number\",\n",
    "    ]\n",
    "    df_sorted = df.sort_values(simulation_config_columns + [\"timestamp\"])\n",
    "    target_delay_time = df_sorted.groupby(by=simulation_config_columns)[\n",
    "        \"delay_time_sec\"\n",
    "    ].shift(-1)\n",
    "    return target_delay_time\n",
    "\n",
    "@timeit\n",
    "def plot_detector_timelines(df, detector_metric, detector_numbers, simulation_configs):\n",
    "    detector_metric_name_map = {\n",
    "        \"flow_vehph\": \"Flow(Veh/Hr)\",\n",
    "        \"density_vehpkm\": \"Density(Veh/Km)\",\n",
    "        \"avg_speed_kmph\": \"Speed(Km/Hr)\",\n",
    "        \"section_travel_time_sec\": \"Travel Time(Sec)\",\n",
    "        \"delay_time_sec\": \"Delay Time(Sec)\",\n",
    "    }\n",
    "    detector_metric_name = detector_metric_name_map[detector_metric]\n",
    "    # Data Filtering\n",
    "    simulation_selector = None\n",
    "    for key, value in simulation_configs.items():\n",
    "        if simulation_selector is not None:\n",
    "            simulation_selector = (simulation_selector) & (df[key] == value)\n",
    "        else:\n",
    "            simulation_selector = df[key] == value\n",
    "    detector_selector = None\n",
    "    for detector in detector_numbers:\n",
    "        if detector_selector is not None:\n",
    "            detector_selector = (detector_selector) | (\n",
    "                df[\"detector_number\"] == detector\n",
    "            )\n",
    "        else:\n",
    "            detector_selector = df[\"detector_number\"] == detector\n",
    "    plotting_columns = {\n",
    "        \"x\": \"timestamp\",\n",
    "        \"y\": detector_metric,\n",
    "        \"hue\": \"detector_number\",\n",
    "        # \"style\":\"detector_number\"\n",
    "    }\n",
    "    plotting_df = df[simulation_selector & detector_selector][\n",
    "        list(set(plotting_columns.values()))\n",
    "    ]\n",
    "    # Plotting helpers\n",
    "    max_metric_point = plotting_df[detector_metric].max()\n",
    "    detector_numbers_str = f\"{detector_numbers}\".strip(\"[]\")\n",
    "    accident_start_time = simulation_configs[\"accident_start_time\"]\n",
    "    accident_duration = simulation_configs[\"accident_duration\"]\n",
    "    accident_detector = int(\n",
    "        np.ceil(simulation_configs[\"accident_location\"] / DETECTOR_SEPARATION_DISTANCE)\n",
    "    )\n",
    "    title = f\"{detector_metric_name.split('(')[0]} distribution for Detector(s) {detector_numbers_str}\\n Accident Configs: {simulation_configs}\\nAccident in detector {accident_detector}\"\n",
    "    # Plotting\n",
    "    figure(num=None, figsize=(20, 12), dpi=80, facecolor=\"w\", edgecolor=\"k\")\n",
    "    # ax = sns.lineplot(data=plotting_df,palette=sns.color_palette(\"Spectral\",len(detector_numbers)),**plotting_columns)\n",
    "    ax = sns.lineplot(\n",
    "        data=plotting_df,\n",
    "        palette=sns.color_palette(\"husl\", len(detector_numbers)),\n",
    "        **plotting_columns,\n",
    "    )\n",
    "    ax.set(title=title, xlabel=\"Timestamp(sec)\", ylabel=detector_metric_name)\n",
    "    plt.vlines(\n",
    "        x=accident_start_time,\n",
    "        ymin=0,\n",
    "        ymax=max_metric_point,\n",
    "        colors=\"blue\",\n",
    "        linewidths=3,\n",
    "    )\n",
    "    plt.vlines(\n",
    "        x=accident_start_time + accident_duration,\n",
    "        ymin=0,\n",
    "        ymax=max_metric_point,\n",
    "        colors=\"blue\",\n",
    "        linewidths=3,\n",
    "    )\n",
    "    plt.show()"
   ]
  },
  {
   "cell_type": "markdown",
   "metadata": {},
   "source": [
    "## Data Preperations"
   ]
  },
  {
   "cell_type": "code",
   "execution_count": 4,
   "metadata": {},
   "outputs": [],
   "source": [
    "\n",
    "aggreagated_data_path = os.path.join(ROOT_DIRECTORY,\"data/thesis_data/aggreagated_simulation_data.csv\")\n",
    "complete_df = pd.read_csv(aggreagated_data_path)\n",
    "#Rename columns\n",
    "complete_df = complete_df.rename(columns = {\n",
    "    \"avg_speed\":\"avg_speed_kmph\",\n",
    "    \"density\": \"density_vehpkm\",\n",
    "    \"flow\": \"flow_vehph\"\n",
    "}\n",
    ")\n",
    "#Calculate avg. travel times between detectors based on the detector separation distance and avg. speed\n",
    "complete_df[\"section_travel_time_sec\"] = complete_df[\"avg_speed_kmph\"].apply(calculate_section_travel_time)\n",
    "\n",
    "#Remove accident simulations & warm-up & cool-down periods to get free flow speed\n",
    "no_accident_warm_up_df = complete_df[\n",
    "    (WARM_UP_PERIOD_DURATION < complete_df.timestamp) #First 15 minutes\n",
    "    & (complete_df.timestamp < SIMULATION_DURATION - COOL_DOWN_PERIOD_DURATION) #Last 15 minutes\n",
    "    & (complete_df.accident_duration==0)\n",
    "    & (~complete_df.section_travel_time_sec.isna())\n",
    "]\n",
    "freeflow_section_travel_time_sec = no_accident_warm_up_df[\"section_travel_time_sec\"].min()\n",
    "\n",
    "complete_df[\"delay_time_sec\"] = complete_df[\"section_travel_time_sec\"] - freeflow_section_travel_time_sec\n",
    "\n",
    "#Remove warm-up periods\n",
    "df = complete_df[\n",
    "    (WARM_UP_PERIOD_DURATION < complete_df.timestamp) #First 15 minutes\n",
    "    & (complete_df.timestamp < SIMULATION_DURATION - COOL_DOWN_PERIOD_DURATION) #Last 15 minutes\n",
    "]\n",
    "df = df.reset_index(drop=True)"
   ]
  },
  {
   "cell_type": "code",
   "execution_count": null,
   "metadata": {},
   "outputs": [],
   "source": [
    "df.head()"
   ]
  },
  {
   "cell_type": "markdown",
   "metadata": {},
   "source": [
    "## Natural Mean Delay Distribution Plot"
   ]
  },
  {
   "cell_type": "code",
   "execution_count": 5,
   "metadata": {},
   "outputs": [
    {
     "data": {
      "image/png": "[encoded data removed]",
      "text/plain": [
       "<Figure size 432x288 with 1 Axes>"
      ]
     },
     "metadata": {
      "needs_background": "light"
     },
     "output_type": "display_data"
    }
   ],
   "source": [
    "#Check mean delay for NO_ACCIDENT-DECETOR_15\n",
    "ax = df[\n",
    "    (df.accident_location == 0)\n",
    "    & (df.detector_number == 15)\n",
    "].groupby(\"timestamp\")[\"delay_time_sec\"].mean().plot()\n",
    "ax.set(title=\"Mean Delay for Detector 15 in No Accident Condition\",xlabel='Timestamp(sec)', ylabel='Delat Time(sec)')\n",
    "plt.show()"
   ]
  },
  {
   "cell_type": "code",
   "execution_count": null,
   "metadata": {},
   "outputs": [],
   "source": [
    "#Check mean delay distribution for NO_ACCIDENT-DECETOR_15\n",
    "plotting_df = df[\n",
    "    (df.accident_location == 0)\n",
    "    & (df.detector_number == 15)\n",
    "][[\"timestamp\",\"delay_time_sec\"]]\n",
    "ax = sns.lineplot(data=plotting_df,x=\"timestamp\",y=\"delay_time_sec\")\n",
    "ax.set(title=\"Delay distribution for Detector 15 in No Accident Condition\",xlabel='Timestamp(sec)', ylabel='Delat Time(sec)')\n",
    "plt.show()"
   ]
  },
  {
   "cell_type": "markdown",
   "metadata": {},
   "source": [
    "### Accident Simulation Plot"
   ]
  },
  {
   "cell_type": "code",
   "execution_count": null,
   "metadata": {},
   "outputs": [],
   "source": [
    "df[\n",
    "    (df.is_accident_simulation == 1)\n",
    "    & (df.accident_lane == 3)\n",
    "][\n",
    "    [\n",
    "    \"is_accident_simulation\",\n",
    "    \"accident_location\",\n",
    "    \"accident_start_time\",\n",
    "    \"accident_duration\",\n",
    "    \"accident_lane\",]\n",
    "].drop_duplicates()"
   ]
  },
  {
   "cell_type": "code",
   "execution_count": null,
   "metadata": {},
   "outputs": [],
   "source": [
    "simulation_configs = {\n",
    "    \"is_accident_simulation\" : 1,\n",
    "    \"accident_location\" : 6932,\n",
    "    \"accident_start_time\" : 2681,\n",
    "    \"accident_duration\" : 1245,\n",
    "    \"accident_lane\" : 1,\n",
    "}\n",
    "detector_numbers = [12,13,14,15]\n",
    "plot_detector_timelines(df=df,detector_metric=\"delay_time_sec\",detector_numbers=detector_numbers,simulation_configs=simulation_configs)"
   ]
  },
  {
   "cell_type": "code",
   "execution_count": null,
   "metadata": {},
   "outputs": [],
   "source": [
    "simulation_configs = {\n",
    "    \"is_accident_simulation\" : 1,\n",
    "    \"accident_location\" : 6108,\n",
    "    \"accident_start_time\" : 1427,\n",
    "    \"accident_duration\" : 1093,\n",
    "    \"accident_lane\" : 3,\n",
    "}\n",
    "detector_numbers = [10,11,12,13,14]\n",
    "plot_detector_timelines(df=df,detector_metric=\"delay_time_sec\",detector_numbers=detector_numbers,simulation_configs=simulation_configs)\n"
   ]
  },
  {
   "cell_type": "code",
   "execution_count": null,
   "metadata": {},
   "outputs": [],
   "source": [
    "simulation_configs = {\n",
    "    \"is_accident_simulation\" : 1,\n",
    "    \"accident_location\" : 5001,\n",
    "    \"accident_start_time\" : 1248,\n",
    "    \"accident_duration\" : 1238,\n",
    "    \"accident_lane\" : 3,\n",
    "}\n",
    "detector_numbers = [9,10,11,12]\n",
    "plot_detector_timelines(df=df,detector_metric=\"delay_time_sec\",detector_numbers=detector_numbers,simulation_configs=simulation_configs)"
   ]
  },
  {
   "cell_type": "code",
   "execution_count": null,
   "metadata": {},
   "outputs": [],
   "source": [
    "plot_detector_timelines(df=df,detector_metric=\"flow_vehph\",detector_numbers=detector_numbers,simulation_configs=simulation_configs)"
   ]
  },
  {
   "cell_type": "code",
   "execution_count": null,
   "metadata": {},
   "outputs": [],
   "source": [
    "plot_detector_timelines(df=df,detector_metric=\"avg_speed_kmph\",detector_numbers=detector_numbers,simulation_configs=simulation_configs)"
   ]
  },
  {
   "cell_type": "code",
   "execution_count": null,
   "metadata": {},
   "outputs": [],
   "source": [
    "plot_detector_timelines(df=df,detector_metric=\"density_vehpkm\",detector_numbers=detector_numbers,simulation_configs=simulation_configs)"
   ]
  },
  {
   "cell_type": "markdown",
   "metadata": {},
   "source": [
    "### Remark\n",
    "**Different accident lanes effect different road sections**<br>\n",
    "Example:<br>\n",
    "- Accident in detector 11-lane 3 affects detectors 9 & 10 more than 11 & 12\n",
    "- Accident in detector 14-lane 1 affects detector 14 more than any other"
   ]
  },
  {
   "cell_type": "markdown",
   "metadata": {},
   "source": [
    "## Feature Engineering"
   ]
  },
  {
   "cell_type": "code",
   "execution_count": null,
   "metadata": {},
   "outputs": [],
   "source": [
    "# Calculate lag values for flow_vehph, density_vehpkm, avg_speed_kmph, section_travel_time_sec & delay_time_sec\n",
    "df = calculate_detector_lag_values(df,max_lag=10)\n",
    "# Add features of previous & next detectors\n",
    "df = calculate_adjacent_detector_features(df)\n",
    "# Calculate time after accident\n",
    "df[\"time_after_accident_started\"] = df.apply(calculate_time_after_accident_start,axis=1)\n",
    "# Calculate detector distance to incident\n",
    "df[\"distance_to_accident\"] = df.apply(calculate_distance_to_accident,axis=1)\n",
    "# Calculate target (next time step) delay time\n",
    "df[\"target_delay_time\"] = calculate_target_value(df)"
   ]
  },
  {
   "cell_type": "code",
   "execution_count": null,
   "metadata": {},
   "outputs": [],
   "source": [
    "df.head()"
   ]
  },
  {
   "cell_type": "code",
   "execution_count": null,
   "metadata": {},
   "outputs": [],
   "source": [
    "#Check lagged features\n",
    "simulation_timestamp_selector = (\n",
    "            (df.simulation_run == 0)\n",
    "            & (df.accident_location == 0)\n",
    "            & (df.accident_start_time == 0)\n",
    "            & (df.accident_duration == 0)\n",
    "            & (df.accident_lane == 0)\n",
    "            & ((df.detector_number == 3))\n",
    "        )\n",
    "df[\n",
    " simulation_timestamp_selector   \n",
    "].sort_values([\"timestamp\",\"detector_number\"]).iloc[:9][[\"detector_number\",\"timestamp\",\"delay_time_sec\",\"delay_time_sec_lag1\",\"delay_time_sec_lag2\",\"target_delay_time\"]]"
   ]
  },
  {
   "cell_type": "code",
   "execution_count": null,
   "metadata": {},
   "outputs": [],
   "source": [
    "#Check adjacent features\n",
    "simulation_timestamp_selector = (\n",
    "            (df.simulation_run == 0)\n",
    "            & (df.accident_location == 0)\n",
    "            & (df.accident_start_time == 0)\n",
    "            & (df.accident_duration == 0)\n",
    "            & (df.accident_lane == 0)\n",
    "            & ((df.detector_number == 2)| (df.detector_number == 3)  | (df.detector_number == 4))\n",
    "        )\n",
    "df[\n",
    " simulation_timestamp_selector   \n",
    "].sort_values([\"timestamp\",\"detector_number\"]).iloc[:9][[\"detector_number\",\"timestamp\",\"delay_time_sec\",\"prev_detector_delay_time_sec\",\"next_detector_delay_time_sec\",\"delay_time_sec_lag1\",\"next_detector_delay_time_sec_lag1\",\"prev_detector_delay_time_sec_lag1\"]]"
   ]
  },
  {
   "cell_type": "code",
   "execution_count": null,
   "metadata": {},
   "outputs": [],
   "source": [
    "#All features\n",
    "pprint(list(df.columns),width=200,compact=True)"
   ]
  },
  {
   "cell_type": "code",
   "execution_count": null,
   "metadata": {},
   "outputs": [],
   "source": [
    "df_na_columns = list(df.columns[df.isna().any()])"
   ]
  },
  {
   "cell_type": "code",
   "execution_count": null,
   "metadata": {},
   "outputs": [],
   "source": [
    "df.isna().sum().sum() #5_243_055"
   ]
  },
  {
   "cell_type": "code",
   "execution_count": null,
   "metadata": {},
   "outputs": [],
   "source": [
    "%time\n",
    "# Backfilling for NAs in lagged features\n",
    "df_backfilled = df.copy()\n",
    "df_backfilled.update(df.groupby(\n",
    "    [\n",
    "        \"simulation_run\",\n",
    "        \"accident_location\",\n",
    "        \"accident_start_time\",\n",
    "        \"accident_duration\",\n",
    "        \"accident_lane\",\n",
    "        \"detector_number\",\n",
    "    ]\n",
    ").fillna(method = \"backfill\"))"
   ]
  },
  {
   "cell_type": "code",
   "execution_count": null,
   "metadata": {},
   "outputs": [],
   "source": [
    "df_backfilled_na_columns = list(df_backfilled.columns[df_backfilled.isna().any()])"
   ]
  },
  {
   "cell_type": "code",
   "execution_count": null,
   "metadata": {},
   "outputs": [],
   "source": [
    "set(df_na_columns).difference(set(df_backfilled_na_columns))"
   ]
  },
  {
   "cell_type": "code",
   "execution_count": null,
   "metadata": {},
   "outputs": [],
   "source": [
    "df_backfilled.isna().sum().sum() #3_214_726"
   ]
  },
  {
   "cell_type": "code",
   "execution_count": null,
   "metadata": {},
   "outputs": [],
   "source": [
    "# Filling NAs in boundary detectors\n",
    "column_list = list(df_backfilled.columns)\n",
    "previous_detector_columns = []\n",
    "next_detector_columns = []\n",
    "current_detector_columns = []\n",
    "for column_name in column_list:\n",
    "    if \"prev_detector_\" in column_name:\n",
    "        previous_detector_columns.append(column_name)\n",
    "        original_column_name = column_name.replace(\"prev_detector_\",\"\")\n",
    "        current_detector_columns.append(original_column_name)\n",
    "        next_column_name = column_name.replace(\"prev_detector_\",\"next_detector_\")\n",
    "        next_detector_columns.append(next_column_name)\n",
    "\n",
    "df_backfilled_boundary_filled = df_backfilled.copy()\n",
    "for previous_detector_column_name,current_detector_column_name in zip(previous_detector_columns,current_detector_columns):\n",
    "    df_backfilled_boundary_filled[previous_detector_column_name][(df_backfilled_boundary_filled.detector_number == 1)] = df_backfilled_boundary_filled[current_detector_column_name][(df_backfilled_boundary_filled.detector_number == 1)]\n",
    "\n",
    "for next_detector_column_name,current_detector_column_name in zip(next_detector_columns,current_detector_columns):\n",
    "    df_backfilled_boundary_filled[next_detector_column_name][(df_backfilled_boundary_filled.detector_number == 21)] = df_backfilled_boundary_filled[current_detector_column_name][(df_backfilled_boundary_filled.detector_number == 21)]\n",
    "\n",
    "# Drop last timestamps\n",
    "df_backfilled_boundary_filled = df_backfilled_boundary_filled.dropna(subset=[\"target_delay_time\"])"
   ]
  },
  {
   "cell_type": "code",
   "execution_count": null,
   "metadata": {},
   "outputs": [],
   "source": [
    "# Check for NAs\n",
    "df_backfilled_boundary_filled.isna().sum().sum() #0"
   ]
  },
  {
   "cell_type": "code",
   "execution_count": null,
   "metadata": {},
   "outputs": [],
   "source": [
    "df_backfilled_boundary_filled.head()"
   ]
  },
  {
   "cell_type": "code",
   "execution_count": null,
   "metadata": {},
   "outputs": [],
   "source": [
    "df_final = df_backfilled_boundary_filled.copy()\n",
    "feature_engineered_data_path = os.path.join(ROOT_DIRECTORY,\"data/thesis_data/feature_engineered_data.csv\")\n",
    "df_final.to_csv(feature_engineered_data_path,index=False)"
   ]
  }
 ],
 "metadata": {
  "kernelspec": {
   "display_name": "Python 3",
   "language": "python",
   "name": "python3"
  },
  "language_info": {
   "codemirror_mode": {
    "name": "ipython",
    "version": 3
   },
   "file_extension": ".py",
   "mimetype": "text/x-python",
   "name": "python",
   "nbconvert_exporter": "python",
   "pygments_lexer": "ipython3",
   "version": "3.7.6"
  }
 },
 "nbformat": 4,
 "nbformat_minor": 4
}
