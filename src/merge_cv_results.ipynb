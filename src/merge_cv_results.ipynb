{
 "cells": [
  {
   "cell_type": "code",
   "execution_count": 1,
   "id": "appointed-begin",
   "metadata": {},
   "outputs": [],
   "source": [
    "import dill\n",
    "import os\n",
    "import numpy as np"
   ]
  },
  {
   "cell_type": "code",
   "execution_count": 2,
   "id": "alone-taxation",
   "metadata": {},
   "outputs": [],
   "source": [
    "ROOT_DIRECTORY = \"/home/kaan.aytekin/Thesis\""
   ]
  },
  {
   "cell_type": "code",
   "execution_count": 3,
   "id": "powerful-inspection",
   "metadata": {},
   "outputs": [],
   "source": [
    "model_pickle_paths = [\"cv_lm.pkl\",\"cv_rf.pkl\",\"cv_xgb.pkl\"]\n",
    "loaded_model_results = []\n",
    "for pickle_path in model_pickle_paths:\n",
    "    with open(os.path.join(ROOT_DIRECTORY,f\"data/results/{pickle_path}\"),\"rb\") as file:\n",
    "        model_results = dill.load(file)\n",
    "        loaded_model_results.append(model_results)"
   ]
  },
  {
   "cell_type": "code",
   "execution_count": 5,
   "id": "overhead-columbia",
   "metadata": {},
   "outputs": [],
   "source": [
    "linear_model_results = loaded_model_results[0]\n",
    "rf_model_results = loaded_model_results[1]\n",
    "xgb_model_results = loaded_model_results[2]"
   ]
  },
  {
   "cell_type": "code",
   "execution_count": 25,
   "id": "grand-newspaper",
   "metadata": {},
   "outputs": [
    {
     "name": "stdout",
     "output_type": "stream",
     "text": [
      "{'classifier': Ridge(alpha=1.2297906572240958), 'classifier__alpha': 0.6340098197336863} -486.91515678672675\n",
      "{'classifier': Ridge(alpha=1.2297906572240958), 'classifier__alpha': 0.8824071824103497} -465.3297506161033\n",
      "{'classifier': Ridge(alpha=1.2297906572240958), 'classifier__alpha': 1.0861453982307545} -535.3445015393897\n",
      "{'classifier': Ridge(alpha=1.2297906572240958), 'classifier__alpha': 0.5439783250482388} -467.9969117282368\n",
      "{'classifier': Ridge(alpha=1.2297906572240958), 'classifier__alpha': 1.2297906572240958} -473.5754374401242\n",
      "Max:-465.3297506161033\n",
      "Mean:-485.8323516221161\n",
      "Std:25.850790958652468\n"
     ]
    }
   ],
   "source": [
    "best_scores = []\n",
    "for run_results in linear_model_results:\n",
    "    linear_model_cv_results = run_results.get(\"cv_results\")\n",
    "    print(linear_model_cv_results.best_params_, linear_model_cv_results.best_score_)\n",
    "    run_best_score = linear_model_cv_results.best_score_\n",
    "    best_scores.append(run_best_score)\n",
    "print(f\"Max:{np.max(best_scores)}\")\n",
    "print(f\"Mean:{np.mean(best_scores)}\")\n",
    "print(f\"Std:{np.std(best_scores)}\")"
   ]
  },
  {
   "cell_type": "code",
   "execution_count": 26,
   "id": "guilty-decade",
   "metadata": {},
   "outputs": [
    {
     "name": "stdout",
     "output_type": "stream",
     "text": [
      "{'classifier__n_jobs': 5, 'classifier__n_estimators': 1000, 'classifier__min_samples_leaf': 10, 'classifier__max_features': 0.3333333333333333, 'classifier': RandomForestRegressor(max_features='sqrt', n_estimators=1500, n_jobs=5)} -335.88801771360033\n",
      "{'classifier__n_jobs': 5, 'classifier__n_estimators': 100, 'classifier__min_samples_leaf': 10, 'classifier__max_features': 0.3333333333333333, 'classifier': RandomForestRegressor(max_features='sqrt', n_estimators=1500, n_jobs=5)} -299.64264474579295\n",
      "{'classifier__n_jobs': 5, 'classifier__n_estimators': 100, 'classifier__min_samples_leaf': 10, 'classifier__max_features': 0.3333333333333333, 'classifier': RandomForestRegressor(max_features='sqrt', n_estimators=1500, n_jobs=5)} -338.3768682649488\n",
      "{'classifier__n_jobs': 5, 'classifier__n_estimators': 1500, 'classifier__min_samples_leaf': 1, 'classifier__max_features': 'sqrt', 'classifier': RandomForestRegressor(max_features='sqrt', n_estimators=1500, n_jobs=5)} -354.2370663444475\n",
      "{'classifier__n_jobs': 5, 'classifier__n_estimators': 1500, 'classifier__min_samples_leaf': 1, 'classifier__max_features': 'sqrt', 'classifier': RandomForestRegressor(max_features='sqrt', n_estimators=1500, n_jobs=5)} -359.83680429577817\n",
      "Max:-299.64264474579295\n",
      "Mean:-337.59628027291353\n",
      "Std:21.050237994856726\n"
     ]
    }
   ],
   "source": [
    "best_scores = []\n",
    "for run_results in rf_model_results:\n",
    "    rf_model_cv_results = run_results.get(\"cv_results\")\n",
    "    print(rf_model_cv_results.best_params_, rf_model_cv_results.best_score_)\n",
    "    run_best_score = rf_model_cv_results.best_score_\n",
    "    best_scores.append(run_best_score)\n",
    "print(f\"Max:{np.max(best_scores)}\")\n",
    "print(f\"Mean:{np.mean(best_scores)}\")\n",
    "print(f\"Std:{np.std(best_scores)}\")"
   ]
  },
  {
   "cell_type": "code",
   "execution_count": 27,
   "id": "instant-rabbit",
   "metadata": {},
   "outputs": [
    {
     "name": "stdout",
     "output_type": "stream",
     "text": [
      "{'classifier__reg_alpha': 0, 'classifier__n_jobs': 6, 'classifier__n_estimators': 500, 'classifier__min_child_weight': 50, 'classifier__learning_rate': 0.01, 'classifier': XGBRegressor(base_score=None, booster=None, colsample_bylevel=None,\n",
      "             colsample_bynode=None, colsample_bytree=None, gamma=None,\n",
      "             gpu_id=None, importance_type='gain', interaction_constraints=None,\n",
      "             learning_rate=0.01, max_delta_step=None, max_depth=None,\n",
      "             min_child_weight=200, missing=nan, monotone_constraints=None,\n",
      "             n_estimators=1500, n_jobs=6, num_parallel_tree=None,\n",
      "             random_state=None, reg_alpha=0, reg_lambda=None,\n",
      "             scale_pos_weight=None, subsample=None, tree_method=None,\n",
      "             validate_parameters=None, verbosity=None)} -342.6366551680196\n",
      "{'classifier__reg_alpha': 0.05, 'classifier__n_jobs': 6, 'classifier__n_estimators': 500, 'classifier__min_child_weight': 100, 'classifier__learning_rate': 0.01, 'classifier': XGBRegressor(base_score=None, booster=None, colsample_bylevel=None,\n",
      "             colsample_bynode=None, colsample_bytree=None, gamma=None,\n",
      "             gpu_id=None, importance_type='gain', interaction_constraints=None,\n",
      "             learning_rate=0.01, max_delta_step=None, max_depth=None,\n",
      "             min_child_weight=200, missing=nan, monotone_constraints=None,\n",
      "             n_estimators=1500, n_jobs=6, num_parallel_tree=None,\n",
      "             random_state=None, reg_alpha=0, reg_lambda=None,\n",
      "             scale_pos_weight=None, subsample=None, tree_method=None,\n",
      "             validate_parameters=None, verbosity=None)} -333.7463126804548\n",
      "{'classifier__reg_alpha': 0, 'classifier__n_jobs': 6, 'classifier__n_estimators': 500, 'classifier__min_child_weight': 10, 'classifier__learning_rate': 0.01, 'classifier': XGBRegressor(base_score=None, booster=None, colsample_bylevel=None,\n",
      "             colsample_bynode=None, colsample_bytree=None, gamma=None,\n",
      "             gpu_id=None, importance_type='gain', interaction_constraints=None,\n",
      "             learning_rate=0.01, max_delta_step=None, max_depth=None,\n",
      "             min_child_weight=200, missing=nan, monotone_constraints=None,\n",
      "             n_estimators=1500, n_jobs=6, num_parallel_tree=None,\n",
      "             random_state=None, reg_alpha=0, reg_lambda=None,\n",
      "             scale_pos_weight=None, subsample=None, tree_method=None,\n",
      "             validate_parameters=None, verbosity=None)} -370.75661962672416\n",
      "{'classifier__reg_alpha': 0, 'classifier__n_jobs': 6, 'classifier__n_estimators': 1000, 'classifier__min_child_weight': 100, 'classifier__learning_rate': 0.01, 'classifier': XGBRegressor(base_score=None, booster=None, colsample_bylevel=None,\n",
      "             colsample_bynode=None, colsample_bytree=None, gamma=None,\n",
      "             gpu_id=None, importance_type='gain', interaction_constraints=None,\n",
      "             learning_rate=0.01, max_delta_step=None, max_depth=None,\n",
      "             min_child_weight=200, missing=nan, monotone_constraints=None,\n",
      "             n_estimators=1500, n_jobs=6, num_parallel_tree=None,\n",
      "             random_state=None, reg_alpha=0, reg_lambda=None,\n",
      "             scale_pos_weight=None, subsample=None, tree_method=None,\n",
      "             validate_parameters=None, verbosity=None)} -313.4451710100176\n",
      "{'classifier__reg_alpha': 0, 'classifier__n_jobs': 6, 'classifier__n_estimators': 1500, 'classifier__min_child_weight': 200, 'classifier__learning_rate': 0.01, 'classifier': XGBRegressor(base_score=None, booster=None, colsample_bylevel=None,\n",
      "             colsample_bynode=None, colsample_bytree=None, gamma=None,\n",
      "             gpu_id=None, importance_type='gain', interaction_constraints=None,\n",
      "             learning_rate=0.01, max_delta_step=None, max_depth=None,\n",
      "             min_child_weight=200, missing=nan, monotone_constraints=None,\n",
      "             n_estimators=1500, n_jobs=6, num_parallel_tree=None,\n",
      "             random_state=None, reg_alpha=0, reg_lambda=None,\n",
      "             scale_pos_weight=None, subsample=None, tree_method=None,\n",
      "             validate_parameters=None, verbosity=None)} -325.7741799771977\n",
      "Max:-313.4451710100176\n",
      "Mean:-337.2717876924828\n",
      "Std:19.299468347405888\n"
     ]
    }
   ],
   "source": [
    "best_scores = []\n",
    "for run_results in xgb_model_results:\n",
    "    xgb_model_cv_results = run_results.get(\"cv_results\")\n",
    "    print(xgb_model_cv_results.best_params_, xgb_model_cv_results.best_score_)\n",
    "    run_best_score = xgb_model_cv_results.best_score_\n",
    "    best_scores.append(run_best_score)\n",
    "print(f\"Max:{np.max(best_scores)}\")\n",
    "print(f\"Mean:{np.mean(best_scores)}\")\n",
    "print(f\"Std:{np.std(best_scores)}\")"
   ]
  },
  {
   "cell_type": "markdown",
   "id": "parental-physiology",
   "metadata": {},
   "source": [
    "## Best Config\n",
    "```json\n",
    "{\n",
    "    \"classifier__n_jobs\": 5,\n",
    "    \"classifier__n_estimators\": 100,\n",
    "    \"classifier__min_samples_leaf\": 10,\n",
    "    \"classifier__max_features\": 0.3333333333333333,\n",
    "    \"classifier\": \"RandomForestRegressor(max_features='sqrt', n_estimators=1500, n_jobs=5)\"\n",
    "}\n",
    "```"
   ]
  }
 ],
 "metadata": {
  "kernelspec": {
   "display_name": "Python 3",
   "language": "python",
   "name": "python3"
  }
 },
 "nbformat": 4,
 "nbformat_minor": 5
}